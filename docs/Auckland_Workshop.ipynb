{
 "cells": [
  {
   "cell_type": "code",
   "execution_count": null,
   "metadata": {
    "colab": {
     "base_uri": "https://localhost:8080/",
     "height": 402
    },
    "executionInfo": {
     "elapsed": 22966,
     "status": "ok",
     "timestamp": 1707713907079,
     "user": {
      "displayName": "Ollie Burke",
      "userId": "11051247479595094499"
     },
     "user_tz": -780
    },
    "id": "h_E_FwmHLWxN",
    "outputId": "fb8d04db-7ea7-4f8b-b7df-6ee1366ae1d3"
   },
   "outputs": [],
   "source": [
    "!pip install -q condacolab\n",
    "import condacolab\n",
    "condacolab.install()\n",
    "\n",
    "!git clone https://github.com/BlackHolePerturbationToolkit/FastEMRIWaveforms.git\n",
    "!conda install -c conda-forge gcc_linux-64 gxx_linux-64 wget gsl lapack=3.6.1 hdf5 numpy Cython scipy tqdm jupyter ipython h5py requests matplotlib python | tee /dev/tty | tail -n 1\n",
    "!(cd FastEMRIWaveforms; python setup.py install;)\n",
    "\n",
    "!python -m unittest discover ./FastEMRIWaveforms\n",
    "\n",
    "import sys\n",
    "sys.path.append('./FastEMRIWaveforms/')\n",
    "sys.path.append('/usr/local/lib/python3.10/site-packages/few-1.5.4-py3.10-linux-x86_64.egg/')\n",
    "\n",
    "import few\n",
    "from few.trajectory.inspiral import EMRIInspiral"
   ]
  },
  {
   "cell_type": "markdown",
   "metadata": {
    "id": "rGIFSMslLWxQ"
   },
   "source": [
    "<a target=\"_blank\" href=\"https://colab.research.google.com/github/OllieBurke/EMRI_Workshop/blob/main/docs/Auckland_Tutorial_GPU.ipynb\">\n",
    "  <img src=\"https://colab.research.google.com/assets/colab-badge.svg\" alt=\"Open In Colab\"/>\n",
    "</a>\n",
    "\n",
    "# EMRI Waveforms in a nutshell"
   ]
  },
  {
   "cell_type": "markdown",
   "metadata": {
    "id": "weNoR1FILWxT"
   },
   "source": [
    "Here you can find a pedagogical tutorial on creating Extreme Mass Ratio Inspiral (EMRI) waveforms. We will make an extensive use of the Fast EMRI Waveform (FEW) package [arxiv.org/2104.04582](https://arxiv.org/abs/2104.04582) [arxiv.org/2008.06071](https://arxiv.org/abs/2008.06071). The waveforms in this package combine a variety of separately accessible modules to form EMRI waveforms on both CPUs and GPUs. Generally, the modules fall into four categories: trajectory, amplitudes, summation, and utilities. Please see the [documentation](https://bhptoolkit.org/FastEMRIWaveforms/) for further information on these modules. The code and installation instructions can be found on Github [here](https://github.com/BlackHolePerturbationToolkit/FastEMRIWaveforms).\n",
    "\n",
    "In this tutorial will cover the basics of EMRI waveforms. In particular, we will understand:\n",
    "1) What is an Extreme Mass Ratio Inspiral?\n",
    "2) How is an EMRI Waveform built? What are the parameters of an EMRI Waveform?\n",
    "3) EMRI Trajectories\n",
    "4) EMRI Waveforms in the time, frequency and time-frequency domains.\n",
    "\n",
    "### Authors\n",
    "\n",
    "Lorenzo Speri: lorenzo.speri@aei.mpg.de , **Lorenzo wrote the original tutorial [here](https://github.com/lorenzsp/GRAPPA_EMRI_tutorial)**\n",
    "\n",
    "Ollie Burke: ollie.burke@l2it.in2p3.fr , **I have modified the tutorial to allow for GPU acceleration + more data analysis posed questions**\n",
    "\n",
    "\n"
   ]
  },
  {
   "cell_type": "markdown",
   "metadata": {
    "id": "WHcFuoYlLWxT"
   },
   "source": [
    "## What is an Extreme Mass Ratio Inspiral?"
   ]
  },
  {
   "cell_type": "markdown",
   "metadata": {
    "id": "30cWL8_VLWxU"
   },
   "source": [
    "One of the primary sources for the future space-based gravitational wave detector, the Laser Interferometer Space Antenna, are the inspirals of small compact objects into massive black holes in the centers of galaxies. Such binaries are characterized by a small compact object of mass typically $\\mu\\in[1,100]M_\\odot$ (for example a solar-mass black hole or a neutron star) inspiralling around a Massive Black Hole (MBH) of mass $M\\in[10^5,10^7]M_\\odot$. Due to their particularly small mass ratio $\\epsilon = \\mu / M \\sim [10^{-4},10^{-6}]$ these systems are called Extreme Mass Ratio Inspiral (EMRI). Using perturbation theory in the mass ratio $\\epsilon$ it is possible to model the evolution of the orbit of the compact object. On short time-scales (order of the orbital period), the compact object moves on geodesic orbits as if it was a test particles. However, on longer time-scales, it is necessary to take into account the impact of the gravitational field of the compact object on the background and the gravitational wave emission. During the inspiral, the compact object is slowly driven away from geodesic orbits and this deviation can be interpreted as an effective acceleration/force due to the so-called Gravitational [Self-Force](https://arxiv.org/abs/1805.10385).\n",
    "\n",
    "Below, in the left panel, we show an example of a small compact object of ten solar masses inspiraling around a spinning MBH of $10^6$ solar masses. The duration of the animation corresponds to 25 hours. In the right panel, you can see the gravitational wave signal emmitted during this inspirals. After you complete this tutorial you will easily be able to build animations like the ones above! If you want to impress your family, friends and possible pets, [click this link](https://github.com/OllieBurke/animations.git)"
   ]
  },
  {
   "cell_type": "markdown",
   "metadata": {
    "id": "qxXLvpDmLWxU"
   },
   "source": [
    "|        [Building Trajectories]        |         [Building Waveforms]          |  \n",
    "|:----------------------------:|:-----------------------------:|\n",
    "| [![][trajectory]][trajectory] | [![][waveform]][waveform] |\n",
    "\n",
    "[trajectory]: https://github.com/OllieBurke/EMRI_Workshop/blob/main/docs/movies/trajectory.gif?raw=true\n",
    "\n",
    "[waveform]: https://github.com/OllieBurke/EMRI_Workshop/blob/main/docs/movies/waveform.gif?raw=true"
   ]
  },
  {
   "cell_type": "markdown",
   "metadata": {
    "id": "azINF57KLWxU"
   },
   "source": [
    "## EMRI Waveforms"
   ]
  },
  {
   "cell_type": "markdown",
   "metadata": {
    "id": "fx1PByL0LWxU"
   },
   "source": [
    "EMRI waveforms are represented by the complex time-domain dimensionless strain $h(t) = h_+ - ih_\\times$, where $h_+$ and $h_\\times$ are the usual transverse-traceless gravitational wave polarizations. For large distances from the source ($d_{L}\\rightarrow \\infty$), $h$ is given in the source frame by:\n",
    "\n",
    "$$\n",
    "    h = \\frac{\\mu}{d_L}\\sum_{lmkn} A_{lmkn}(t) \\, S_{lmkn}(\\theta,\\phi) \\, \\exp(-i\\Phi_{mkn}(t)).\n",
    "$$\n",
    "\n",
    "Here $\\mu$ is the mass of the secondary body, $d_{L}$ the luminosity distance to the source, $t$ is the time of arrival of the gravitational wave at the solar system baricenter, and $(l,m,k,n)$ are the indices describing the frequency-domain harmonic mode decomposition (or simply \"harmonic\" or \"mode\"):\n",
    "\n",
    "- $l$ denotes the orbital angular momentum mode index and can take the value $l=2,3,...$\n",
    "\n",
    "- $m$ denotes the azimuthal mode index and can take the values from $-l$ up to $l$. For example for l=2, $m=-2, -1, 0, 1, 2$.\n",
    "\n",
    "- $k$ and $n$ denote the polar and radial mode indices and can take values from $-\\infty$ up to $+\\infty$. But in practice they are restriced to values around zero, for instance between $-30$ up to $30$. In this tutorial there will be no $k$ modes since our inspirals are restricted to the equatorial plane of the central hole.\n",
    "\n",
    "For LIGO sources, where the two objects have comparable masses, the strongest mode is the $(l=2,m=2,k=0,n=0)$.\n",
    "See [Drasco and Hughes 2006](https://arxiv.org/abs/gr-qc/0509101) and [Hughes+ 2021](https://arxiv.org/pdf/2102.02713.pdf) for a derivation of the gravitational waveform."
   ]
  },
  {
   "cell_type": "markdown",
   "metadata": {
    "id": "milFqZzwLWxV"
   },
   "source": [
    "#### Each harmonic is characterized by three important functions:\n",
    "\n",
    "1. The oscillatory part $\\exp[-i\\Phi_{mkn}(t)]$ is determined by the phase $\\Phi_{mkn}=m\\Phi_\\varphi + k \\Phi_\\theta + n\\Phi_r$. The phases $\\Phi_{\\varphi,\\theta,r}$ are determined solving for the EMRI trajectory, i.e. the following system of ordinary differential equations:\n",
    "\n",
    "$$\n",
    "    \\frac{d}{dt}p = \\epsilon \\, f^{(1)}_p(a, p, e, x_I) + \\mathcal{O}(\\epsilon^2) $$\n",
    "    $$\\frac{d}{dt}e = \\epsilon \\, f^{(1)}_e(a, p, e, x_I) + \\mathcal{O}(\\epsilon^2) $$\n",
    "    $$\\frac{d}{dt}x_I = \\epsilon \\, f^{(0)}_{x_I}(a, p, e, x_I) + \\mathcal{O}(\\epsilon^2)$$\n",
    "  $$\\frac{d}{dt}\\Phi_{\\varphi,\\theta,r} = \\Omega_{\\varphi, \\theta, r}(a, p, e, x_I)/M + \\mathcal{O}(\\epsilon)\n",
    "$$\n",
    "\n",
    "with initial condition $\\{\\Phi_{\\varphi0},\\Phi_{\\theta0},\\Phi_{r0},p_0,e_0,x_{I0}\\}$. The frequencies $\\Omega_{r,\\theta,\\phi}$ describe the fundamental frequencies of a Kerr geodesic orbit and in the Newtonian limit (weak field) they all converge to the Keplerian frequency. These frequencies are determined using the dimensionless spin of the MBH, $a$, and the quasi-Keplerian orbital parameters of $p$ (semi-latus rectum; hereafter separation), $e$ (eccentricity), and $\\cos{I} \\equiv x_I$ (cosine of the angle $I$ which describes the orbit's inclination from the equatorial plane). The rate of change of $p,e,x_I$ (left hand side of the first 3 equations) is obtained using the orbital-element fluxes $f_{p,e,x_I}$, which account for the gravitational wave emission, and the mass ratio $\\epsilon = \\mu/M$. For $\\epsilon \\rightarrow 0$ we reach the test-particle limit, and the orbital elements do not vay over time. The extra contributions due to second order in the mass-ratio squared arise from the second-order self force, which is currently a very active field of research. For more information, see [Barack and Pound](https://arxiv.org/abs/1805.10385).\n"
   ]
  },
  {
   "cell_type": "markdown",
   "metadata": {
    "id": "RECbUCPQLWxV"
   },
   "source": [
    "2. The amplitude $A_{lmkn}(t)$ which quantifies the size of each harmonic $(l,m,k,n)$. These are determined using the orbital parameters $A_{lmkn}(p(t), e(t), x_I(t))$. See in the plot below that orbits with higher eccentricity $e_{0} = 0.7$ require significantly many more harmonics than orbits with lower eccentricity $e_{0} = 0.1$. In each plot, the semi-latus rectum has been fixed to $p_{0} = 10$ and $x_{I} = \\cos(\\iota_{0}) = 0.5$.\n",
    "\n",
    "3. The angular function $S_{lmkn}(\\theta,\\phi)$ which describes how the amplitude is modulated depending on the source-frame polar viewing angle $\\theta$, the source-frame azimuthal viewing angle $\\phi$. For Schwarzchild black holes these functions reduce to the -2 spin weighted spherical harmonics $Y_{lm}$."
   ]
  },
  {
   "cell_type": "markdown",
   "metadata": {
    "id": "v4E5CitdLWxV"
   },
   "source": [
    "![](https://github.com/OllieBurke/EMRI_Workshop/blob/main/docs/images/amplitude.jpg?raw=true)"
   ]
  },
  {
   "cell_type": "markdown",
   "metadata": {
    "id": "Mjf8AEsXLWxV",
    "jp-MarkdownHeadingCollapsed": true
   },
   "source": [
    "### General Remarks\n",
    "Notice the correspondence of the mode index with the three different degrees of freedom: $m\\rightarrow \\varphi$ (azimuthal), $k\\rightarrow \\theta$ (polar), $n\\rightarrow r$ (radial). Each mode is characterized by the mode frequency $\\omega_{mkn}=m\\Omega_\\varphi + k \\Omega_\\theta + n \\Omega_r$ which is the derivative of the phase $\\Phi_{mkn}$. On short time-scales, the gravitational wave of an EMRI can be thought as a Fourier series with coefficients $\\sum_l A_{lmnk} S_{lmkn}$ and frequencies $\\omega_{mkn}$. The quantities $\\Omega_{\\varphi, \\theta, r}$ are fundamental frequencies in the azimuthal, polar and radial coordinates:  $(\\varphi, \\theta, r)$.\n",
    "\n",
    "Theoretical parameter ranges:\n",
    "- the eccentricity ranges between 0 and 1, for $e=0$ the orbits are circular;\n",
    "- the inclination parameter ranges between -1 and 1, for $x_I=1$ the orbits are equatorial prograde, $x_I=-1$ the orbits are equatorial retrograde, $x_I=0$ the orbits are polar. An orbit is pro(retro)grade only if the trajectory of the body is (anti)aligned with the massive compact objects orbital angular momentum.\n",
    "- the dimensionless spin parameters ranges between 0 and 1, for $a=0$ the central MBH is not spinning (Schwarzchild background) and the orbit of the compact object stays in the same plane, i.e. $x_I$ is constant.\n",
    "\n",
    "See [Hughes+ 2021](https://ui.adsabs.harvard.edu/abs/2021PhRvD.103j4014H/abstract) for further discussion and more detailed definitions.  "
   ]
  },
  {
   "cell_type": "markdown",
   "metadata": {
    "id": "rfqlK5IyLWxV"
   },
   "source": [
    "## EMRI Parameter space"
   ]
  },
  {
   "cell_type": "markdown",
   "metadata": {
    "id": "WO89YJ4ELWxV"
   },
   "source": [
    "After we outlined the building blocks to create an EMRI waveform, let us now understand how these are organized in the Fast EMRI Waveform code. The waveform code takes as input two sets of parameters:\n",
    "- The intrinsic parameters $(M,\\mu,a,p_0,e_0,(x_{I})_0,\\Phi_{\\varphi 0},\\Phi_{\\theta 0},\\Phi_{r 0})$, which are used to construct the waveform in the source frame; Notice that the last six parameters here serve as initial conditions for the coupled set of ODEs defined earlier, with $M$ and $\\mu$ determining the most crucial feature of the EMRI: The mass ratio $\\epsilon = \\mu/M$. The intrinsic parameters govern the evolution of the signal as a function of frequency.\n",
    "- the extrinsic parameters $(d_L,\\theta_S,\\phi_S,\\theta_K,\\phi_K)$, which define how the waveform is viewed in a given reference frame. The extrinsic parameters feature more in the amplitude of the waveform.\n",
    "\n",
    "The intrinsic parameters are then passed into the trajectory module which computes the sparse time evolution of the phases $\\Phi_{\\varphi}(t),\\Phi_{\\theta}(t),\\Phi_{r}(t)$ and orbital elements $p(t),e(t),x_I(t)$. The phases are used to assemble the oscillatory part, whereas the orbital elements are passed to the amplitude module which computes $A(p(t),e(t),x_I(t))$. The angular function is computed using the extrinsic parameters. Then the summation module (Waveform build) takes as input the functions $\\exp[-i\\Phi_{mkn}(t)], A_{lmkn}(t)$ and $S_{lmkn}(\\theta,\\phi)$ and outputs the waveform strain $h$."
   ]
  },
  {
   "cell_type": "markdown",
   "metadata": {
    "id": "mWRxX1Z_LWxW"
   },
   "source": [
    "![FEW_arch](https://github.com/OllieBurke/EMRI_Workshop/blob/main/docs/images/FEW_arch.jpg?raw=true)"
   ]
  },
  {
   "cell_type": "code",
   "execution_count": null,
   "metadata": {
    "id": "_V2Q9YQ1LWxW",
    "scrolled": true
   },
   "outputs": [],
   "source": [
    "# we import here all the modules and packages we need\n",
    "import sys\n",
    "import os\n",
    "\n",
    "import matplotlib.pyplot as plt\n",
    "%matplotlib inline\n",
    "\n",
    "try:\n",
    "    import cupy as cp\n",
    "    import numpy as np\n",
    "except ImportError:\n",
    "    import numpy as np\n",
    "\n",
    "from tqdm import tqdm as tqdm\n",
    "from few.trajectory.inspiral import EMRIInspiral\n",
    "from few.amplitude.romannet import RomanAmplitude\n",
    "from few.amplitude.interp2dcubicspline import Interp2DAmplitude\n",
    "from few.waveform import FastSchwarzschildEccentricFlux, SlowSchwarzschildEccentricFlux, GenerateEMRIWaveform\n",
    "from few.utils.utility import (get_overlap,\n",
    "                               get_mismatch,\n",
    "                               get_fundamental_frequencies,\n",
    "                               get_separatrix,\n",
    "                               get_mu_at_t,\n",
    "                               get_p_at_t,\n",
    "                               get_kerr_geo_constants_of_motion,\n",
    "                               xI_to_Y,\n",
    "                               Y_to_xI)\n",
    "\n",
    "from few.utils.ylm import GetYlms\n",
    "from few.utils.modeselector import ModeSelector\n",
    "from few.summation.interpolatedmodesum import CubicSplineInterpolant\n",
    "from few.waveform import SchwarzschildEccentricWaveformBase\n",
    "from few.summation.interpolatedmodesum import InterpolatedModeSum\n",
    "from few.summation.directmodesum import DirectModeSum\n",
    "from few.utils.constants import *\n",
    "from few.summation.aakwave import AAKSummation\n",
    "from few.waveform import Pn5AAKWaveform, AAKWaveformBase\n",
    "\n",
    "use_gpu = False\n",
    "\n",
    "# keyword arguments for inspiral generator (RunSchwarzEccFluxInspiral)\n",
    "inspiral_kwargs={\n",
    "        \"DENSE_STEPPING\": 0,  # we want a sparsely sampled trajectory\n",
    "        \"max_init_len\": int(1e3),  # all of the trajectories will be well under len = 1000\n",
    "    }\n",
    "\n",
    "# keyword arguments for inspiral generator (RomanAmplitude)\n",
    "amplitude_kwargs = {\n",
    "    \"max_init_len\": int(1e3),  # all of the trajectories will be well under len = 1000\n",
    "    \"use_gpu\": use_gpu  # GPU is available in this class\n",
    "}\n",
    "\n",
    "# keyword arguments for Ylm generator (GetYlms)\n",
    "Ylm_kwargs = {\n",
    "    \"assume_positive_m\": False  # if we assume positive m, it will generate negative m for all m>0\n",
    "}\n",
    "\n",
    "# keyword arguments for summation generator (InterpolatedModeSum)\n",
    "sum_kwargs = {\n",
    "    \"use_gpu\": use_gpu,  # GPU is availabel for this type of summation\n",
    "    \"pad_output\": False,\n",
    "}"
   ]
  },
  {
   "cell_type": "markdown",
   "metadata": {
    "id": "qQCD1B1dLWxW"
   },
   "source": [
    "## Schwarzschild Eccentric Trajectories and Waveforms\n",
    "In this tutorial we will restrict to EMRI systems in which the central object is a non-spinning black hole. The case of a spinning black hole is presented at the end of the notebook in the additional materials."
   ]
  },
  {
   "cell_type": "markdown",
   "metadata": {
    "id": "R9JGDRxILWxW"
   },
   "source": [
    "## Trajectory Module\n",
    "The trajectory module generates orbital $\\{p(t),e(t), x_{I}(t)\\}$ and phase $\\{\\Phi_\\varphi(t), \\Phi_\\theta(t), \\Phi_r(t)\\}$ trajectories for an EMRI orbit defined by the coordinate-time evolving quantities:  \n",
    "\n",
    "$$\n",
    "p(t), e(t), x_I(t), \\Phi_\\varphi(t), \\Phi_\\theta(t), \\Phi_r(t)\n",
    "$$\n",
    "\n",
    "with initial inputs $M, \\mu, p_0, e_0, (x_{I})_{0}, \\iota_0, \\Phi_{\\varphi0}, \\Phi_{\\theta0}, \\Phi_{r 0}$. We remark here that $x_{I} = \\cos(\\iota (t))$ for $\\iota$ the inclination angle of the body with respect to the equatorial plane (see image below). The trajectory is evolved for a user defined time of $T$ years or until the last-stable orbit, defined by the separatrix $p_{sep}$ is reached. If the specified duration $T$ is longer than the time taken to reach the separatrix, then the orbit will terminate at $p(t_{\\text{sep}}) = p_{\\text{sep}}$. At a single point in time, the orbit can be pictures like\n",
    "\n",
    "<div style=\"text-align:center;\">\n",
    "<img src=\"https://github.com/OllieBurke/EMRI_Workshop/blob/main/docs/images/Orbit.jpg?raw=true\" width=\"700\" height=\"700\">\n",
    "</div>\n",
    "\n",
    "$M$ is the larger mass ($M_\\odot$), $\\mu$ is the compact object mass ($M_\\odot$), $p_0$ is the initial semi-latus rectum (dimensionless), $e_0$ is the initial eccentricity (dimensionless), and the final three are the initial orbital phases $\\Phi_{\\varphi 0}, \\Phi_{\\theta 0}, \\Phi_{r 0}$ (in radians). The three orbital phases can be thought of as \"positional elements\" of the smaller body when in orbit of the primary black hole. Take, for example, a sphere of radius $r$. There are infinitely many points on that sphere for where that radius could be defined. However, only by fixing the angular variables in $\\theta$ and $\\phi$ can you define a specific point on a sphere with spherical polar coordinates $(r,\\theta,\\phi)$. It's similar for the EMRI orbit. If you specify a specific orbital parameters $p_{0},e_{0},(x_{I})_{0}$ then we need phase variables $\\Phi_{\\varphi 0,\\theta 0,\\phi 0}$ to determine the smaller bodies position with respect to the central massive black hole.\n",
    "\n",
    "For the special case of non-rotating black holes (Schwarzchild black holes) the spin parameter is zero $a=0$. This will simplify the orbit where the body necessarily remains on the same plane $x_I=1$, and the separatrix is located at $p_\\textrm{sep} = 6+2e$. Given that $p(t)$ and $e(t)$ are time-evolving quantities, the separatrix will also be evolving in time. For further details on the location of the separatrix for generic orbits around rotating black holes (and various special cases), see [Stein and Warburton](https://arxiv.org/pdf/1912.07609.pdf) for an excellent discussion.\n"
   ]
  },
  {
   "cell_type": "markdown",
   "metadata": {
    "id": "twU-V7IXLWxX"
   },
   "source": [
    "### Let us begin by analysing a basic trajectory\n",
    "\n",
    "We begin by analysing eccentric orbits in a Schwarzschild space-time. This means that $a = 0, x_{I}(t) = 1, \\Phi_{\\theta0} = 0$ will be fixed."
   ]
  },
  {
   "cell_type": "code",
   "execution_count": null,
   "metadata": {
    "id": "eFMOCoOCLWxX"
   },
   "outputs": [],
   "source": [
    "# initialize trajectory class\n",
    "traj = EMRIInspiral(func=\"SchwarzEccFlux\")"
   ]
  },
  {
   "cell_type": "code",
   "execution_count": null,
   "metadata": {
    "colab": {
     "base_uri": "https://localhost:8080/",
     "height": 706
    },
    "executionInfo": {
     "elapsed": 1816,
     "status": "ok",
     "timestamp": 1707707997989,
     "user": {
      "displayName": "Ollie Burke",
      "userId": "11051247479595094499"
     },
     "user_tz": -780
    },
    "id": "xeX1u_sFLWxX",
    "outputId": "665f3d72-4447-4370-9653-332eecd38d08"
   },
   "outputs": [],
   "source": [
    "# set initial parameters for Schwarzschild orbit\n",
    "M = 1e6   # Primary mass  (solar masses)\n",
    "mu = 1e1  # Secondary mass  (solar masses)\n",
    "p0 = 10.0 # range [separatrix, 45]\n",
    "e0 = 0.3  # range [0.0, 0.7]\n",
    "\n",
    "# run trajectory\n",
    "# must include for generic inputs, will fix a = 0 and x = 1.0\n",
    "a = 0.0\n",
    "x = 1.0\n",
    "\n",
    "# additional information\n",
    "kwargs = dict(dt=10.0, # initial time step,\n",
    "              T=2.0, # Time duration in years\n",
    "              err=1e-10 # integrator error -- used as a tolerance to solve coupled ODEs above\n",
    "             )\n",
    "\n",
    "# Compute trajectory of smaller body: p(t), e(t), xI(t), Phi_phi(t), Phi_theta(t), Phi_r(t)\n",
    "t, p, e, xI, Phi_phi, Phi_theta, Phi_r = traj(M, mu, a, p0, e0, x,\n",
    "                                              Phi_phi0=0.0,\n",
    "                                              Phi_theta0=0.0,\n",
    "                                              Phi_r0=0.0,\n",
    "                                              **kwargs)\n",
    "\n",
    "\n",
    "# get dimensionless fundamental frequencies\n",
    "OmegaPhi, OmegaTheta, OmegaR = get_fundamental_frequencies(a, p, e, x)\n",
    "\n",
    "\n",
    "# Plot the results\n",
    "fig, axes = plt.subplots(2, 3)\n",
    "plt.subplots_adjust(wspace=0.3)\n",
    "fig.set_size_inches(14, 8)\n",
    "axes = axes.ravel()\n",
    "\n",
    "ylabels = [r'$e$', r'$p$', r'$e$', r'$\\Phi_\\phi$', r'$\\Phi_r$', r'$\\Omega_\\phi$']\n",
    "xlabels = [r'$p$', r'$t$ [years]', r'$t$ [years]', r'$t$ [years]', r'$t$ [years]', r'$t$ [years]', r'$t$ [years]', r'$t$ [years]']\n",
    "ys = [e, p, e, Phi_phi, Phi_r, OmegaPhi]\n",
    "xs = [p, t/YRSID_SI, t/YRSID_SI, t/YRSID_SI, t/YRSID_SI, t/YRSID_SI]\n",
    "\n",
    "for i, (ax, x, y, xlab, ylab) in enumerate(zip(axes, xs, ys, xlabels, ylabels)):\n",
    "    ax.plot(x, y)\n",
    "    ax.set_xlabel(xlab, fontsize=16)\n",
    "    ax.set_ylabel(ylab, fontsize=16)\n",
    "    ax.grid()"
   ]
  },
  {
   "cell_type": "markdown",
   "metadata": {
    "id": "5-9-aDS3LWxY"
   },
   "source": [
    "## Exercise 0\n",
    "\n",
    "1. For the default parameters $(M,\\mu,a,p_{0},e_{0},(x_{I})_{0}) = (10^{6}, 10, 0, 10, 0.3, 1)$ with $T = 2$ years, verify that the final point in semi-latus rectum corresponds to the separatrix defined by $p = 6 + 2e$. Change the time of evolution $T$ and make a note of what you find.\n",
    "2. Modify the mass-ratio of the system above by increasing/decreasing $M$ whilst keeping $\\mu$ (and all other parameters) fixed. What do you observe about the orbital evolution in semi-latus rectum $p(t)$? You may need to increase the time of evolution $T$. You will find that $\\dot{p} = dp/dt$ decreases as $M$ is increased."
   ]
  },
  {
   "cell_type": "code",
   "execution_count": null,
   "metadata": {
    "id": "e0u9ssm-LWxY"
   },
   "outputs": [],
   "source": [
    "# EXERCISE 0!\n",
    "\n",
    "# set initial parameters for Schwarzschild orbit\n",
    "# M = 1e6   # Primary mass  (solar masses)\n",
    "# mu = 1e1  # Secondary mass  (solar masses)\n",
    "# p0 = 10.0 # range [separatrix, 45]\n",
    "# e0 = 0.3  # range [0.0, 0.7]\n",
    "\n",
    "# # run trajectory\n",
    "# # must include for generic inputs, will fix a = 0 and x = 1.0\n",
    "# a = 0.0\n",
    "# x = 1.0\n",
    "\n",
    "# # additional information\n",
    "# kwargs = dict(dt=10.0, # initial time step,\n",
    "#               T=2.0, # Time duration in years\n",
    "#               err=1e-10 # integrator error -- used as a tolerance to solve coupled ODEs above\n",
    "#              )\n",
    "\n",
    "# # Compute trajectory of smaller body: p(t), e(t), xI(t), Phi_phi(t), Phi_theta(t), Phi_r(t)\n",
    "# t, p, e, xI, Phi_phi, Phi_theta, Phi_r = traj(M, mu, a, p0, e0, x,\n",
    "#                                               Phi_phi0=0.0,\n",
    "#                                               Phi_theta0=0.0,\n",
    "#                                               Phi_r0=0.0,\n",
    "#                                               **kwargs)\n",
    "\n",
    "# p_sep = [INSERT YOUR CODE HERE]\n",
    "# print(\"Separatrix is at \",p_sep)\n",
    "# print(\"Final point in semi-latus rectum is\", p[-1])"
   ]
  },
  {
   "cell_type": "code",
   "execution_count": null,
   "metadata": {
    "id": "zANkvIFQLWxY"
   },
   "outputs": [],
   "source": [
    "# EXERCISE 0!\n",
    "\n",
    "# set initial parameters for Schwarzschild orbit\n",
    "\n",
    "mu = 1e1  # Secondary mass  (solar masses)\n",
    "p0 = 10.0 # range [separatrix, 45]\n",
    "e0 = 0.3  # range [0.0, 0.7]\n",
    "\n",
    "# run trajectory\n",
    "# must include for generic inputs, will fix a = 0 and x = 1.0\n",
    "a = 0.0\n",
    "x = 1.0\n",
    "\n",
    "# additional information\n",
    "kwargs = dict(dt=10.0, # initial time step,\n",
    "              T=1.0, # Time duration in years\n",
    "              err=1e-10 # integrator error -- used as a tolerance to solve coupled ODEs above\n",
    "             )\n",
    "\n",
    "# Compute trajectory of smaller body: p(t), e(t), xI(t), Phi_phi(t), Phi_theta(t), Phi_r(t)\n",
    "\n",
    "# M_vec = 10**np.arange(4,7,1)\n",
    "# N_plots = len(M_vec)\n",
    "\n",
    "# fig,ax = plt.subplots(1,N_plots, figsize = (12,4))\n",
    "# i=0\n",
    "# for M in M_vec:\n",
    "#     t, p, e, xI, Phi_phi, Phi_theta, Phi_r = [INSERT YOUR CODE HERE]\n",
    "\n",
    "#     ax[i].plot(t/60/60/24,p,label = \"M = {}\".format(M))\n",
    "#     ax[i].set_xlabel(r'time [days]', fontsize = 18)\n",
    "#     ax[i].set_ylabel(r'semi-latus rectum $p$',fontsize = 18)\n",
    "#     ax[i].set_title(r'Primary mass = {} $M_\\odot$'.format(M),fontsize = 14)\n",
    "#     ax[i].legend()\n",
    "#     ax[i].grid()\n",
    "\n",
    "\n",
    "#     i+=1\n",
    "\n"
   ]
  },
  {
   "cell_type": "markdown",
   "metadata": {
    "id": "g6cRycU3LWxY"
   },
   "source": [
    "### Quasi-Keplerian parameters: $(p,e)$\n",
    "We want to remark that $p$ and $e$ are quasi-Keplerian parameters and gauge dependent quantities (they depend on the choice of coordinate system). They \"converge\" to the Newtonian equivalent parameters in the weak field regime (far away in radial coordinate $r$ from the black hole). Below we show a plot of ellipsis based on these parameters at diferent stages of the evolution. This is useful to get a sense of the evolution of the orbit but you should not interpret these ellipsis as real orbits!"
   ]
  },
  {
   "cell_type": "code",
   "execution_count": null,
   "metadata": {
    "colab": {
     "base_uri": "https://localhost:8080/",
     "height": 795
    },
    "executionInfo": {
     "elapsed": 1665,
     "status": "ok",
     "timestamp": 1707708028531,
     "user": {
      "displayName": "Ollie Burke",
      "userId": "11051247479595094499"
     },
     "user_tz": -780
    },
    "id": "Yeg7v3c8LWxY",
    "outputId": "9eeee579-13e7-4905-9f35-a669c38271af"
   },
   "outputs": [],
   "source": [
    "# set initial parameters for Schwarzschild orbit\n",
    "M = 1e6   # Primary mass  (solar masses)\n",
    "mu = 1e1  # Secondary mass  (solar masses)\n",
    "p0 = 10.5 # range [separatrix, 45]\n",
    "e0 = 0.3  # range [0.0, 0.7]\n",
    "\n",
    "# run trajectory\n",
    "# must include for generic inputs, will fix a = 0 and x = 1.0\n",
    "a = 0.0\n",
    "x = 1.0\n",
    "\n",
    "# additional information\n",
    "kwargs = dict(dt=10.0, # initial time step,\n",
    "              T=2.0, # Time duration in years\n",
    "              err=1e-10 # integrator error -- used as a tolerance to solve coupled ODEs above\n",
    "             )\n",
    "\n",
    "# Compute trajectory of smaller body: p(t), e(t), xI(t), Phi_phi(t), Phi_theta(t), Phi_r(t)\n",
    "t, p, e, xI, Phi_phi, Phi_theta, Phi_r = traj(M, mu, a, p0, e0, x,\n",
    "                                              Phi_phi0=0.0,\n",
    "                                              Phi_theta0=0.0,\n",
    "                                              Phi_r0=0.0,\n",
    "                                              **kwargs)\n",
    "\n",
    "import matplotlib\n",
    "cmap = matplotlib.cm.get_cmap('Spectral')\n",
    "\n",
    "plt.figure(figsize=(8,8))\n",
    "for ii in range(0,len(p),12):\n",
    "    pp = p[ii]\n",
    "    ee = e[ii]\n",
    "    Csi = np.linspace(0.0,2*np.pi,100)\n",
    "    rr = pp / (1 + ee * np.cos(Csi))\n",
    "    xx = rr * np.cos(Csi)\n",
    "    yy = rr * np.sin(Csi)\n",
    "    plt.plot(xx,yy,c=cmap(ii/len(p)),label=f'time = {t[ii]/(YRSID_SI):.2e} years' )\n",
    "plt.scatter(0,0,c='k',label='MBH')\n",
    "plt.legend()\n",
    "plt.xlim(-20,20)\n",
    "plt.ylim(-20,20)\n",
    "plt.xlabel(r'$r\\cos(\\xi)$',fontsize = 16)\n",
    "plt.ylabel(r'$r\\sin(\\xi)$', fontsize = 16)\n",
    "plt.title('Illustrative depiction of orbits',fontsize = 25)\n",
    "plt.show()"
   ]
  },
  {
   "cell_type": "markdown",
   "metadata": {
    "id": "egu8SAwhLWxZ"
   },
   "source": [
    "## Evolution of semi-latus rectum and eccentricity\n",
    "\n",
    "The goal of the next cell is to understand how the semi-latus rectum and eccentricity evolve together. Notice that for trajectories with semi-latus rectum close to the separatrix, one observes an \"uptick\" in the eccentricity. This is a well known feature and is further discussed in this [article](https://arxiv.org/abs/gr-qc/0203086)."
   ]
  },
  {
   "cell_type": "code",
   "execution_count": null,
   "metadata": {
    "colab": {
     "base_uri": "https://localhost:8080/",
     "height": 449
    },
    "executionInfo": {
     "elapsed": 1264,
     "status": "ok",
     "timestamp": 1707708039784,
     "user": {
      "displayName": "Ollie Burke",
      "userId": "11051247479595094499"
     },
     "user_tz": -780
    },
    "id": "CcisgN93LWxZ",
    "outputId": "2a4b1a9c-9b62-4b59-e12d-acbfd2287a9a"
   },
   "outputs": [],
   "source": [
    "# set initial parameters\n",
    "M = 1e6     # Primary mass (solar masses)\n",
    "mu = 1e1    # Secondary mass (solar masses)\n",
    "\n",
    "# run trajectory\n",
    "\n",
    "# must include for generic inputs, will fix a = 0 and x = 1.0\n",
    "a = 0.0\n",
    "x = 1.0\n",
    "\n",
    "# additional information\n",
    "kwargs = dict(dt=10.0, # initial time step,\n",
    "              T=100.0, # Time duration in years [Excessive, but want to evolve to separatrix! here]\n",
    "              err=1e-10 # integrator error\n",
    "             )\n",
    "\n",
    "p0 = 10.0 # range [separatrix, 45]\n",
    "e0 = 0.3 # range [0.0, 0.7]\n",
    "\n",
    "plt.figure()\n",
    "\n",
    "\n",
    "# Here we plot the trajectory with all parameters fixed (e0 = 0.7) apart from p0\n",
    "for p0 in np.linspace(7, 20, num=10):\n",
    "    e0=0.7\n",
    "    t, p, e, xI, Phi_phi, Phi_theta, Phi_r = traj(M, mu, a, p0, e0, x,\n",
    "                                              Phi_phi0=0.0,\n",
    "                                              Phi_theta0=0.0,\n",
    "                                              Phi_r0=0.0,\n",
    "                                              **kwargs)\n",
    "    plt.plot(p,e)\n",
    "\n",
    "# Now we plot the trajectory with all parameters fixed (p0 = 20) apart from e0\n",
    "for e0 in np.linspace(0, 0.69, num=10):\n",
    "    p0=20.0\n",
    "    t, p, e, xI, Phi_phi, Phi_theta, Phi_r = traj(M, mu, a, p0, e0, x,\n",
    "                                              Phi_phi0=0.0,\n",
    "                                              Phi_theta0=0.0,\n",
    "                                              Phi_r0=0.0,\n",
    "                                              **kwargs)\n",
    "    plt.plot(p,e)\n",
    "\n",
    "# Separatrix given by p_sep = 6 + 2*e\n",
    "pp = np.linspace(6,7.5,100)\n",
    "ecc = (pp - 6)/2\n",
    "plt.plot(pp,ecc,'k--',label='separatrix')\n",
    "plt.xlabel('p')\n",
    "plt.ylabel('e')\n",
    "plt.legend()\n",
    "plt.show()\n"
   ]
  },
  {
   "cell_type": "markdown",
   "metadata": {
    "id": "fNk1sCrKLWxZ"
   },
   "source": [
    "### Trajectory duration as a function of mass ratio, eccentricity, semi-latus rectum\n",
    "\n",
    "In Exercise 0 above we saw that the length of the trajectory, in time, is very sensitive to the mass-ratio of the system. The coupled ODEs\n",
    "\n",
    "$$\n",
    "\\frac{d}{dt}p = \\epsilon \\, f^{(1)}_p(a, p, e, x_I) + \\mathcal{O}(\\epsilon^2)\n",
    "$$\n",
    "$$\n",
    "\\frac{d}{dt}e = \\epsilon \\, f^{(1)}_e(a, p, e, x_I) + \\mathcal{O}(\\epsilon^2)\n",
    "$$\n",
    "\n",
    "show that $\\dot{p} \\sim \\dot{e} \\sim \\epsilon$. It should then be expected that the rate of change of the orbital parameters $p(t)$ and $e(t)$ is directly proportional to the size of the mass-ratio of the system. We will investigate this below.\n"
   ]
  },
  {
   "cell_type": "code",
   "execution_count": null,
   "metadata": {
    "colab": {
     "base_uri": "https://localhost:8080/"
    },
    "executionInfo": {
     "elapsed": 2,
     "status": "ok",
     "timestamp": 1707708046763,
     "user": {
      "displayName": "Ollie Burke",
      "userId": "11051247479595094499"
     },
     "user_tz": -780
    },
    "id": "OIi3Vhs-LWxZ",
    "outputId": "b4e1dd61-a62e-4153-f29d-c9193c363234"
   },
   "outputs": [],
   "source": [
    "# set initial parameters\n",
    "M = 1e6   # Primary mass\n",
    "mu = 1e1  # Secondary mass\n",
    "p0 = 12 # range [separatrix, 45]\n",
    "e0 = 0.3 # range [0.0, 0.7]\n",
    "\n",
    "# run trajectory\n",
    "\n",
    "# must include for generic inputs, will fix a = 0 and x = 1.0\n",
    "a = 0.0\n",
    "x = 1.0\n",
    "\n",
    "\n",
    "# Fix time duration to a very large number (1000 years) so that we obtain the time duration from trajectory\n",
    "\n",
    "kwargs = dict(dt=10.0, # initial time setp,\n",
    "              T=1000.0,\n",
    "              err=1e-10 # integrator error\n",
    "             )\n",
    "\n",
    "mass_ratio_vector = 10**np.linspace(-4.0, -7.0, num=10)\n",
    "\n",
    "tfinal = []\n",
    "for count,epsilon in enumerate(mass_ratio_vector):\n",
    "\n",
    "    # get secondary mass for fixed mass ratio\n",
    "    mu = M * epsilon\n",
    "    t, p, e, xI, Phi_phi, Phi_theta, Phi_r = traj(M, mu, a, p0, e0, x,\n",
    "                                                  Phi_phi0=0.0,\n",
    "                                                  Phi_theta0=0.0,\n",
    "                                                  Phi_r0=0.0,\n",
    "                                                  **kwargs)\n",
    "\n",
    "    # inspiral duration (divide by YRSID_SI to get it in years)\n",
    "    tfinal.append(t[-1]/YRSID_SI)\n",
    "    if count%3 == 0:\n",
    "        print(\"For a mass-ratio of epsilon = {}, time duration is T = {} years\".format(epsilon,t[-1]/YRSID_SI))\n"
   ]
  },
  {
   "cell_type": "code",
   "execution_count": null,
   "metadata": {
    "colab": {
     "base_uri": "https://localhost:8080/",
     "height": 460
    },
    "executionInfo": {
     "elapsed": 1274,
     "status": "ok",
     "timestamp": 1707708053271,
     "user": {
      "displayName": "Ollie Burke",
      "userId": "11051247479595094499"
     },
     "user_tz": -780
    },
    "id": "zebnOokqLWxZ",
    "outputId": "15d1ff83-f22d-471e-9de4-6993b12a512c"
   },
   "outputs": [],
   "source": [
    "plt.figure()\n",
    "plt.loglog(mass_ratio_vector, tfinal,'*', ms = \"16\", c = 'red')\n",
    "plt.ylabel('Time duration [years]',fontsize = 16)\n",
    "plt.xlabel('Mass ratio',fontsize = 16)\n",
    "plt.title(\"\")\n",
    "plt.grid()\n",
    "plt.show()"
   ]
  },
  {
   "cell_type": "markdown",
   "metadata": {
    "id": "NlaTrbdJLWxa"
   },
   "source": [
    "### Discussion of plot above\n",
    "\n",
    "In each trajectory calculation, the initial semi-latus rectum is fixed. The only quantity that is changing is the mass ratio $\\epsilon = \\mu/M$. As $\\epsilon$ decreases, the trajectory evolution time increases. The time of evolut ion is thus inversely proportional to the mass-ratio of the system. We thus see that\n",
    "\n",
    "$$\n",
    "T_{\\text{observation}} \\sim 1/\\epsilon\n",
    "$$\n",
    "\n",
    "Notice that for $\\epsilon = 10^{-7}$, with the parameters given above, it would have taken 396 years to plunge. Whereas with a mass-ratio of $\\epsilon = 10^{-4}$, it would have only taken 144 days.  \n",
    "\n",
    "Cool."
   ]
  },
  {
   "cell_type": "markdown",
   "metadata": {
    "id": "Jqe8hQa4LWxa"
   },
   "source": [
    "## Exercise 1"
   ]
  },
  {
   "cell_type": "markdown",
   "metadata": {
    "id": "ZIPgYI0gLWxb"
   },
   "source": [
    "Let us now understand how the inspiral duration changes for different initial eccentricity or different initial semi-latus rectum. Remember the range of validity of the parameters and produce two plots:\n",
    "1. Time duration vs initial eccentricity (fixing all the other parameters)\n",
    "2. Time duration vs initial semi-latus rectum (fixing all the other parameters)\n",
    "\n",
    "If you have time, produce also this plot:\n",
    "\n",
    "3. Time duration vs M/epsilon (M=Mass MBHS and epsilon=Mass ratio). Prove that, for different total masses and mass ratios, the behavior of Time duration vs M/epsilon is always the same (Hint: use two for loops, one for $M$ and the other for $\\epsilon$).\n",
    "\n",
    "You should find that:\n",
    "\n",
    "1. The relation between time-duration and eccentricity is weak\n",
    "2. The relation between time-duration and semi-latus rectum is near-linear\n",
    "3. The relation between time-duration and $M/\\epsilon$ is perfectly linear."
   ]
  },
  {
   "cell_type": "code",
   "execution_count": null,
   "metadata": {
    "id": "7yBSyi3TLWxb"
   },
   "outputs": [],
   "source": [
    "# Time duration vs initial eccentricity -- It's your turn!\n",
    "\n",
    "## # set initial parameters\n",
    "M = 1e6\n",
    "mu = 1e1\n",
    "p0 = 10.0 # range [separatrix, 45]\n",
    "e0 = 0.3 # range [0.0, 0.7]\n",
    "\n",
    "# run trajectory\n",
    "# must include for generic inputs, will fix a = 0 and x = 1.0\n",
    "a = 0.0\n",
    "x = 1.0\n",
    "\n",
    "\n",
    "# Fix time duration to a very large number (100 years) so that we obtain the time duration from trajectory\n",
    "kwargs = dict(dt=10.0, # initial time setp,\n",
    "              T=1000.0,\n",
    "              err=1e-10 # integrator error\n",
    "             )\n",
    "\n",
    "# ecc = np.linspace(0.01, 0.7, num=10)\n",
    "\n",
    "# tfinal = []\n",
    "# for e0 in ecc:\n",
    "\n",
    "#  [INPUT YOUR CODE IN HERE]\n",
    "\n",
    "#     tfinal.append(t[-1]/YRSID_SI)\n",
    "\n",
    "\n",
    "# plt.figure()\n",
    "# plt.plot(ecc, tfinal)\n",
    "# plt.ylabel('Time duration [years]')\n",
    "# plt.xlabel('e0')\n",
    "# plt.show()\n",
    "\n"
   ]
  },
  {
   "cell_type": "code",
   "execution_count": null,
   "metadata": {
    "id": "sX1t0CmbLWxb",
    "tags": [
     "hide-cell"
    ]
   },
   "outputs": [],
   "source": [
    "# Time duration vs initial semi-latus rectum\n",
    "\n",
    "## # set initial parameters\n",
    "M = 1e6\n",
    "mu = 1e1\n",
    "p0 = 10.0 # range [separatrix, 45]\n",
    "e0 = 0.3 # range [0.0, 0.7]\n",
    "\n",
    "# run trajectory\n",
    "# must include for generic inputs, will fix a = 0 and x = 1.0\n",
    "a = 0.0\n",
    "x = 1.0\n",
    "\n",
    "\n",
    "# Fix time duration to a very large number (100 years) so that we obtain the time duration from trajectory\n",
    "kwargs = dict(dt=10.0, # initial time setp,\n",
    "              T=1000.0,\n",
    "              err=1e-10 # integrator error\n",
    "             )\n",
    "\n",
    "# tfinal = []\n",
    "# e0 = 0.0 # reset eccentricity\n",
    "# pp = np.linspace(7.0, 30.0, num=10)\n",
    "# for p0 in pp:\n",
    "\n",
    "#  [INPUT YOUR CODE IN HERE]\n",
    "\n",
    "#     tfinal.append(t[-1]/YRSID_SI)\n",
    "\n",
    "\n",
    "# plt.figure()\n",
    "# plt.loglog(pp, tfinal)\n",
    "# plt.ylabel('Time duration [years]')\n",
    "# plt.xlabel('p0')\n",
    "# plt.show()\n",
    "\n",
    "\n",
    "\n"
   ]
  },
  {
   "cell_type": "code",
   "execution_count": null,
   "metadata": {
    "id": "hXA_pc_5LWxc"
   },
   "outputs": [],
   "source": [
    "\n",
    "## # set initial parameters\n",
    "M = 1e6\n",
    "mu = 1e1\n",
    "p0 = 10.0 # range [separatrix, 45]\n",
    "e0 = 0.3 # range [0.0, 0.7]\n",
    "\n",
    "# run trajectory\n",
    "# must include for generic inputs, will fix a = 0 and x = 1.0\n",
    "a = 0.0\n",
    "x = 1.0\n",
    "\n",
    "\n",
    "# Fix time duration to a very large number (100 years) so that we obtain the time duration from trajectory\n",
    "kwargs = dict(dt=10.0, # initial time setp,\n",
    "              T=1000.0,\n",
    "              err=1e-10 # integrator error\n",
    "             )\n",
    "\n",
    "# tfinal = []\n",
    "# e0 = 0.2 # reset\n",
    "# p0=10.0\n",
    "\n",
    "# epsilon_vector = 10**np.linspace(-4.0, -6.0, num=10)\n",
    "# Mvec = 10**np.linspace(4.0, 7.0, num=10)\n",
    "\n",
    "# plt.figure()\n",
    "# for M in [CODE HERE]:\n",
    "#     tfinal = []\n",
    "#     for epsilon in [CODE HERE]:\n",
    "\n",
    "#         # get secondary mass for fixed mass ratio\n",
    "\n",
    "#         mu = [CODE HERE]\n",
    "#         CODE HERE -- Generate your trajectory for given choices of M and epsilon.\n",
    "\n",
    "#         # inspiral duration (divide by YRSID_SI to get it in years)\n",
    "#         tfinal.append(t[-1]/YRSID_SI)\n",
    "\n",
    "    # plt.plot(M/epsilon_vector, tfinal)\n",
    "# plt.ylabel('Time duration [years]')\n",
    "# plt.xlabel('$M/\\epsilon$')\n",
    "# plt.show()"
   ]
  },
  {
   "cell_type": "markdown",
   "metadata": {
    "id": "MxSGoMbhLWxc"
   },
   "source": [
    "### Number of cycles and differences between trajectories\n",
    "It is often common to introduce the number of cycles $\\mathcal{N}_\\varphi (t)= \\Phi_\\varphi(t)/(2\\pi)$ to quantify the number of times the compact object orbits around the MBH. This is useful to quantify the difference between trajectories."
   ]
  },
  {
   "cell_type": "code",
   "execution_count": null,
   "metadata": {
    "colab": {
     "base_uri": "https://localhost:8080/",
     "height": 483
    },
    "executionInfo": {
     "elapsed": 4,
     "status": "ok",
     "timestamp": 1707708075112,
     "user": {
      "displayName": "Ollie Burke",
      "userId": "11051247479595094499"
     },
     "user_tz": -780
    },
    "id": "5nTwaNuVLWxc",
    "outputId": "6d3b1e39-6abc-4ccf-80f9-9ef4363dab41"
   },
   "outputs": [],
   "source": [
    "# run trajectory\n",
    "# must include for generic inputs, will fix a = 0 and x = 1.0\n",
    "a = 0.0\n",
    "x = 1.0\n",
    "p0 = 10.0 # range [separatrix, 45]\n",
    "e0 = 0.3 # range [0.0, 0.7]\n",
    "\n",
    "# set initial parameters\n",
    "M1 = 1e6\n",
    "mu1 = 1e1\n",
    "\n",
    "t1, p1, e1, xI1, Phi_phi1, Phi_theta1, Phi_r1 = traj(M1, mu1, a, p0, e0, x,\n",
    "                                              Phi_phi0=0.0,\n",
    "                                              Phi_theta0=0.0,\n",
    "                                              Phi_r0=0.0,\n",
    "                                              **kwargs)\n",
    "\n",
    "M2 = 5e5\n",
    "mu2 = 5\n",
    "t2, p2, e2, xI2, Phi_phi2, Phi_theta2, Phi_r2 = traj(M2, mu2, a, p0, e0, x,\n",
    "                                              Phi_phi0=0.0,\n",
    "                                              Phi_theta0=0.0,\n",
    "                                              Phi_r0=0.0,\n",
    "                                              **kwargs)\n",
    "\n",
    "plt.figure()\n",
    "plt.plot(t1/YRSID_SI,Phi_phi1/(2*np.pi), label=f'mu={mu1}, M={M1/1e6} x $10^6$, $\\epsilon$ = {mu1/M1}')\n",
    "plt.plot(t2/YRSID_SI,Phi_phi2/(2*np.pi), label=f'mu={mu2}, M={M2/1e6} x $10^6$, $\\epsilon$ = {mu2/M2}')\n",
    "plt.ylabel('Number of cycles')\n",
    "plt.xlabel('t [years]')\n",
    "plt.legend()\n",
    "plt.grid()\n",
    "plt.show()\n",
    "\n",
    "print(\"Final number of cycles of system 1 with mu = {} and M = {} is N_cyles = {}\".format(mu1,M1,Phi_phi1[-1]/(2*np.pi)))\n",
    "print(\"Final number of cycles of system 2 with mu = {} and M = {} is N_cycles = {}\".format(mu2,M2,Phi_phi2[-1]/(2*np.pi)))"
   ]
  },
  {
   "cell_type": "markdown",
   "metadata": {
    "id": "v8VHlEWNLWxd"
   },
   "source": [
    "The two systems have the same mass ratio and the same final number of cycles. However, the number of cycles accumulated per second is different. An EMRI system with larger MBH \"more slowly\" than a system with smaller `M`.  Notice that the frequencies are related to the time derivative of the number of cycles\n",
    "\n",
    "$$\n",
    "\\frac{d}{dt} \\mathcal{N}_\\varphi = \\frac{1}{2 \\pi}\\frac{d}{dt} \\Phi_\\varphi = \\frac{1}{2 \\pi} \\Omega_\\varphi\\, .\n",
    "$$"
   ]
  },
  {
   "cell_type": "code",
   "execution_count": null,
   "metadata": {
    "colab": {
     "base_uri": "https://localhost:8080/",
     "height": 449
    },
    "executionInfo": {
     "elapsed": 942,
     "status": "ok",
     "timestamp": 1707708081032,
     "user": {
      "displayName": "Ollie Burke",
      "userId": "11051247479595094499"
     },
     "user_tz": -780
    },
    "id": "oiJLhUuZLWxd",
    "outputId": "c2abf65a-0b50-48c4-e516-9b3175bea1c6"
   },
   "outputs": [],
   "source": [
    "# run trajectory\n",
    "# must include for generic inputs, will fix a = 0 and x = 1.0\n",
    "a = 0.0\n",
    "x = 1.0\n",
    "p0 = 10.0 # range [separatrix, 45]\n",
    "e0 = 0.3 # range [0.0, 0.7]\n",
    "\n",
    "# set initial parameters\n",
    "M1 = 1e6\n",
    "mu1 = 1e1\n",
    "\n",
    "epsilon = mu/M\n",
    "\n",
    "\n",
    "\n",
    "t1, p1, e1, xI1, Phi_phi1, Phi_theta1, Phi_r1 = traj(M1, mu1, a, p0, e0, x,\n",
    "                                              Phi_phi0=0.0,\n",
    "                                              Phi_theta0=0.0,\n",
    "                                              Phi_r0=0.0,\n",
    "                                              **kwargs)\n",
    "\n",
    "OmegaPhi1, OmegaTheta1, OmegaR1 = get_fundamental_frequencies(a, p1, e1, xI1)\n",
    "\n",
    "M2 = 5e5\n",
    "mu2 = 5\n",
    "t2, p2, e2, xI2, Phi_phi2, Phi_theta2, Phi_r2 = traj(M2, mu2, a, p0, e0, xI1,\n",
    "                                              Phi_phi0=0.0,\n",
    "                                              Phi_theta0=0.0,\n",
    "                                              Phi_r0=0.0,\n",
    "                                              **kwargs)\n",
    "\n",
    "OmegaPhi2, OmegaTheta2, OmegaR2 = get_fundamental_frequencies(a, p2, e2, xI2)\n",
    "\n",
    "plt.figure()\n",
    "plt.plot(t1/YRSID_SI,OmegaPhi1/(2*np.pi), label=f'mu={mu1}, M={M1/1e6} x $10^6$, $\\epsilon$ = {mu1/M1}')\n",
    "plt.plot(t2/YRSID_SI,OmegaPhi2/(2*np.pi), label=f'mu={mu2}, M={M2/1e6} x $10^6$, $\\epsilon$ = {mu2/M2}')\n",
    "plt.ylabel(r'$dN_{\\phi}/dt$',fontsize = 20)\n",
    "plt.xlabel('t [seconds]')\n",
    "plt.legend()\n",
    "plt.grid()\n",
    "plt.show()\n"
   ]
  },
  {
   "cell_type": "markdown",
   "metadata": {
    "id": "nWP1D4_YLWxd"
   },
   "source": [
    "## Exercise 2\n",
    "Plot the FINAL number of cycles (`Ncycle.append(Phi_phi[-1]/(2*np.pi))`) for different mass ratios. What do you find? If you see a linear relationship then well done!!!"
   ]
  },
  {
   "cell_type": "code",
   "execution_count": null,
   "metadata": {
    "id": "LV2VIW8KLWxe"
   },
   "outputs": [],
   "source": [
    "# # set initial parameters\n",
    "M = 1e6\n",
    "mu = 1e1\n",
    "\n",
    "# run trajectory\n",
    "# must include for generic inputs, will fix a = 0 and x = 1.0\n",
    "a = 0.0\n",
    "x = 1.0\n",
    "p0 = 10.0 # range [separatrix, 45]\n",
    "e0 = 0.3 # range [0.0, 0.7]\n",
    "\n",
    "# Ncycle = []\n",
    "# for epsilon in epsilon_vector:\n",
    "\n",
    "#     # get secondary mass for fixed mass ratio\n",
    "#     mu = [CODE HERE]\n",
    "#     t, p, e, xI, Phi_phi, Phi_theta, Phi_r = [CODE HERE]\n",
    "\n",
    "#     Ncycle.append([CODE HERE])\n",
    "\n",
    "\n",
    "# plt.figure()\n",
    "# plt.loglog(mass_ratio_vector, Ncycle)\n",
    "# plt.ylabel('Number of cycles')\n",
    "# plt.xlabel('Mass ratio')\n",
    "# plt.show()"
   ]
  },
  {
   "cell_type": "markdown",
   "metadata": {
    "id": "6zP__lkTLWxe"
   },
   "source": [
    "### Fundamental frequencies and harmonics"
   ]
  },
  {
   "cell_type": "markdown",
   "metadata": {
    "id": "EV6zGomMLWxe"
   },
   "source": [
    "Over short time-scales, an EMRI Waveform can thought as a Fourier series where the frequencies $\\omega_{mnk}$ are given by\n",
    "\n",
    "$$\n",
    "\\omega_{mnk} = m \\Omega_\\varphi + n \\Omega_r + k \\Omega_\\theta\n",
    "$$\n",
    "\n",
    "Therefore is possible to plot the frequency evolution of each harmonic given a trajectory. This can be useful to understand which frequency range each harmonic spans."
   ]
  },
  {
   "cell_type": "code",
   "execution_count": null,
   "metadata": {
    "colab": {
     "base_uri": "https://localhost:8080/",
     "height": 449
    },
    "executionInfo": {
     "elapsed": 459,
     "status": "ok",
     "timestamp": 1707708089507,
     "user": {
      "displayName": "Ollie Burke",
      "userId": "11051247479595094499"
     },
     "user_tz": -780
    },
    "id": "lylF6NTiLWxf",
    "outputId": "9f8c32ca-fb6d-4a29-b10a-6cfe889aa112"
   },
   "outputs": [],
   "source": [
    "# run trajectory\n",
    "# must include for generic inputs, will fix a = 0 and x = 1.0\n",
    "a = 0.0\n",
    "x = 1.0\n",
    "p0 = 10.0 # range [separatrix, 45]\n",
    "e0 = 0.3 # range [0.0, 0.7]\n",
    "\n",
    "# set initial parameters\n",
    "M = 1e6\n",
    "mu = 1e1\n",
    "\n",
    "t1, p1, e1, xI1, Phi_phi1, Phi_theta1, Phi_r1 = traj(M, mu, a, p0, e0, x,\n",
    "                                              Phi_phi0=0.0,\n",
    "                                              Phi_theta0=0.0,\n",
    "                                              Phi_r0=0.0,\n",
    "                                              **kwargs)\n",
    "# get the fundamental frequencies\n",
    "OmegaPhi1, OmegaTheta1, OmegaR1 = get_fundamental_frequencies(a, p1, e1, xI1)\n",
    "\n",
    "M2 = 5e5\n",
    "mu2 = 5\n",
    "t2, p2, e2, xI2, Phi_phi2, Phi_theta2, Phi_r2 = traj(M2, mu2, a, p0, e0, x,\n",
    "                                              Phi_phi0=0.0,\n",
    "                                              Phi_theta0=0.0,\n",
    "                                              Phi_r0=0.0,\n",
    "                                              **kwargs)\n",
    "OmegaPhi2, OmegaTheta2, OmegaR2 = get_fundamental_frequencies(a, p2, e2, xI2)\n",
    "\n",
    "plt.figure()\n",
    "# we need to divide by the total Mass and convert to seconds\n",
    "plt.plot(t1,OmegaPhi / (M1 * MTSUN_SI) , label=f'mu={mu1}, M={M1/1e6} x $10^6$')\n",
    "plt.plot(t2,OmegaPhi2/ (M2 * MTSUN_SI), label=f'mu={mu2}, M={M2/1e6} x $10^6$')\n",
    "plt.ylabel(r'$\\Omega_\\varphi$ [1/s]')\n",
    "plt.xlabel('t [s]')\n",
    "plt.legend()\n",
    "plt.grid()\n",
    "plt.show()"
   ]
  },
  {
   "cell_type": "markdown",
   "metadata": {
    "id": "Z9ol8FwSLWxf"
   },
   "source": [
    "The system with smaller MBH mass spans more frequencies and evolves more quickly than the system with larger MBH mass. This piece of code will be exceptionally useful for a later exercise. Understand here that, for the $\\phi$ angular frequency $\\Omega_{\\phi}$, we can determine up to what mode in $m$ we are sensitive to when analysing EMRI waveforms."
   ]
  },
  {
   "cell_type": "markdown",
   "metadata": {
    "id": "RYWXnJseLWxf"
   },
   "source": [
    "# Schwarzchild Waveforms in the source frame\n",
    "\n",
    "So far in this tutorial we have focused on how to generate the trajectory of the smaller body around a massive black hole given an initial set of input parameters. Now, given a set of input parameters that determine a trajectory, we will focus on how to generate the final source frame Schwarzschild waveform. The rest of this tutorial will focus on time domain, frequency domain and time-frequency domain representations of EMRI waveforms. There will also be a few extra, more data analysis focused exercises as one progresses through the tutorial.\n",
    "\n",
    "We begin with the time-domain representation of an EMRI waveform.\n",
    "\n",
    "\n",
    "## Time Domain Representation of Waveforms\n",
    "\n",
    "\n",
    "At large luminosity distances from the source, the source-frame EMRI waveform is given by\n",
    "\n",
    "$$\n",
    "    h_{+} - ih_{\\times} = \\frac{\\mu}{d_L}\\sum_{lmn} A_{lmn}(p(t),e(t),x_{I}(t)) \\, S_{lmn}(\\theta,\\phi) \\, \\exp(-i\\Phi_{mn}(t)).\n",
    "$$\n",
    "\n",
    "*Note:* We will not give a detailed tutorial on the pieces that determine the harmonic content of the amplitudes $A_{lmn}$ or the spin weighted spherical harmonics $S_{lmn}$. That's outside the scope of this work though, if people are curious, feel free to talk to me.\n",
    "\n",
    "## GPU acceleration\n",
    "\n",
    "From a data analysis perspective, we require EMRI waveforms that can be generated in around one second. This is due to the immense number of waveform generations required for parameter estimation algorithms, which is likely only a fraction of the amount required for the actual search phase! The speed of EMRI waveforms depend on two crucial ingredients. One is how quickly the trajectory can be built and the other is how quickly the individual harmonics (pairs of modes eg. (l,m,n) = (2,2,0) ) can all be summed. For orbits with significant eccentricities, the numbers of harmonics can be huge (in the thousands)!\n",
    "\n",
    "The trajectories are quickly computed by integrating on a sparse grid that becomes more fine as the separatrix is approached. The waveforms are quickly generated by exploting GPUs to parallelise the sum over $(l,m,n)$. Compared to single CPUs, speed ups of order $\\sim 2500$ are observed when compared to a single GPU. In this tutorial, using google collab, we will use google collabs basic GPU version.\n",
    "\n",
    "![image.png](https://github.com/OllieBurke/EMRI_Workshop/blob/main/docs/images/gpu.jpg?raw=true)\n",
    "\n",
    "The next few cells will focus on generating the EMRI waveform in the time domain."
   ]
  },
  {
   "cell_type": "code",
   "execution_count": null,
   "metadata": {
    "colab": {
     "base_uri": "https://localhost:8080/",
     "height": 430
    },
    "executionInfo": {
     "elapsed": 2858,
     "status": "ok",
     "timestamp": 1707709421358,
     "user": {
      "displayName": "Ollie Burke",
      "userId": "11051247479595094499"
     },
     "user_tz": -780
    },
    "id": "oWng5IG_LWxf",
    "outputId": "13084d5f-6ef8-4816-888e-9ff0f07c8b18"
   },
   "outputs": [],
   "source": [
    "# We first define a few key word arguments to help our EMRI generator understand precisely what we want.\n",
    "\n",
    "# GPU accelerated waveforms, this is an absolute game changer.\n",
    "try:\n",
    "    import cupy as cp\n",
    "    use_gpu = True\n",
    "    xp = cp\n",
    "except ImportError:\n",
    "    use_gpu = False\n",
    "    xp = np\n",
    "\n",
    "\n",
    "\n",
    "few_gen = FastSchwarzschildEccentricFlux(\n",
    "    inspiral_kwargs=inspiral_kwargs,\n",
    "    amplitude_kwargs=amplitude_kwargs,\n",
    "    Ylm_kwargs=Ylm_kwargs,\n",
    "    sum_kwargs=sum_kwargs,\n",
    "    use_gpu=use_gpu,\n",
    ")\n",
    "\n",
    "# parameters\n",
    "M = 1e6\n",
    "mu = 1e2\n",
    "p0 = 12.0\n",
    "e0 = 0.4\n",
    "theta = np.pi/3  # polar viewing angle in source frame\n",
    "phi = np.pi/4  # azimuthal viewing angle in source frame\n",
    "dt = 10.0\n",
    "\n",
    "wave = few_gen(M, mu, p0, e0, theta, phi,Phi_phi0=0.0,  dt=dt, T=0.01)  #  assumes dt = 10.0 for max T = 0.01 year\n",
    "\n",
    "plt.figure()\n",
    "if use_gpu:\n",
    "    plt.plot(xp.asnumpy(wave.real[:400]))\n",
    "    plt.plot(xp.asnumpy(wave.imag[:400]))\n",
    "else:\n",
    "    plt.plot(wave.real[:400])\n",
    "    plt.plot(wave.imag[:400])\n",
    "plt.show()"
   ]
  },
  {
   "cell_type": "markdown",
   "metadata": {
    "id": "VgzOdgkCLWxf"
   },
   "source": [
    "## EMRI Waveforms in different domains\n",
    "The output of FEW is a time domain waveform, i.e. the dimensionless strain as a function of time. Later on in this tutorial we will discuss a frequency domain model. We are currently working on trying to output an EMRI waveform directly in the time-frequency domain... watch this space!\n",
    "\n",
    "Let's have a look at the waveform at different stages of the trajectory."
   ]
  },
  {
   "cell_type": "code",
   "execution_count": null,
   "metadata": {
    "id": "tF4Cl2BKLWxg"
   },
   "outputs": [],
   "source": [
    "# parameters\n",
    "M = 1e6\n",
    "mu = 1e1\n",
    "p0 = 10.63\n",
    "e0 = 0.3\n",
    "theta = np.pi/3  # polar viewing angle in source frame\n",
    "phi = np.pi/4  # azimuthal viewing angle in source frame\n",
    "dt = 10.0\n",
    "# notice that we are providing the distance parameter\n",
    "wave = few_gen(M, mu, p0, e0, theta, phi, dist=1.0, dt=dt, T=2.0)  #  assumes dt = 10.0 for max T = 1.0 year\n",
    "time = np.arange(0, len(wave))*dt\n",
    "\n",
    "# On my local machine, this took me five minutes to execute. I hope you have a GPU enabled!"
   ]
  },
  {
   "cell_type": "markdown",
   "metadata": {
    "id": "RT3KYzA9LWxg"
   },
   "source": [
    "## The full signal"
   ]
  },
  {
   "cell_type": "code",
   "execution_count": null,
   "metadata": {
    "colab": {
     "base_uri": "https://localhost:8080/",
     "height": 871
    },
    "executionInfo": {
     "elapsed": 6802,
     "status": "ok",
     "timestamp": 1707708225674,
     "user": {
      "displayName": "Ollie Burke",
      "userId": "11051247479595094499"
     },
     "user_tz": -780
    },
    "id": "ToedxJHuLWxg",
    "outputId": "094b4935-1176-4496-a922-b432e41151f1"
   },
   "outputs": [],
   "source": [
    "plt.figure(figsize=(16,10))\n",
    "if use_gpu:\n",
    "    plt.plot(time/YRSID_SI, xp.asnumpy(wave.real))\n",
    "else:\n",
    "    plt.plot(time/YRSID_SI, wave.real)\n",
    "plt.ylabel(r'$h_+$', fontsize = 16)\n",
    "plt.xlabel('t [years]', fontsize = 16)\n",
    "plt.show()"
   ]
  },
  {
   "cell_type": "markdown",
   "metadata": {
    "id": "3TK9AVTLLWxg"
   },
   "source": [
    "What we can now do is check to see how the waveform evolves in time. Given our recently built intuition from the trajectory part of the tutorial, we should expect to see the rate of change of frequency evolve with time. We will now compare snapshots of the waveform as the smaller body gets closer to the separatrix."
   ]
  },
  {
   "cell_type": "code",
   "execution_count": null,
   "metadata": {
    "colab": {
     "base_uri": "https://localhost:8080/"
    },
    "executionInfo": {
     "elapsed": 841,
     "status": "ok",
     "timestamp": 1707708242861,
     "user": {
      "displayName": "Ollie Burke",
      "userId": "11051247479595094499"
     },
     "user_tz": -780
    },
    "id": "NwR6XhZSLWxg",
    "outputId": "9426f8ee-d527-408e-9332-815f53b3f76e"
   },
   "outputs": [],
   "source": [
    "t, p, e, xI, Phi_phi, Phi_theta, Phi_r = traj(M, mu, a, p0, e0, x,\n",
    "                                              Phi_phi0=0.0,\n",
    "                                              Phi_theta0=0.0,\n",
    "                                              Phi_r0=0.0,\n",
    "                                              **kwargs)\n",
    "\n",
    "j0 = 0\n",
    "j1 = 3000000\n",
    "j2 = 6000000\n",
    "j3 = -400\n",
    "\n",
    "t_index_j1 = np.argwhere(t > time[j1])[0][0]\n",
    "t_index_j2 = np.argwhere(t > time[j2])[0][0]\n",
    "t_index_j3 = np.argwhere(t > time[j3])[0][0]\n",
    "\n",
    "print(t_index_j3)\n",
    "\n",
    "if use_gpu:\n",
    "    wave_np = xp.asnumpy(wave.real)\n",
    "else:\n",
    "    wave_np = wave.real"
   ]
  },
  {
   "cell_type": "code",
   "execution_count": null,
   "metadata": {
    "colab": {
     "base_uri": "https://localhost:8080/",
     "height": 1000
    },
    "executionInfo": {
     "elapsed": 1635,
     "status": "ok",
     "timestamp": 1707708249469,
     "user": {
      "displayName": "Ollie Burke",
      "userId": "11051247479595094499"
     },
     "user_tz": -780
    },
    "id": "UxBeCkDcLWxg",
    "outputId": "58857e83-4378-4438-87f7-7adf931d414c"
   },
   "outputs": [],
   "source": [
    "fig, ax = plt.subplots(4,2, figsize = (14,16))\n",
    "\n",
    "ax[0][0].set_title(\"Location of small body\", fontsize = 16)\n",
    "ax[0][0].plot(t/YRSID_SI, p)\n",
    "ax[0][0].plot(t[0]/YRSID_SI,p[0], 'ro', ms = 12, label = 'Small body')\n",
    "ax[0][1].plot(time[0:400]/60, wave_np[0:400])\n",
    "\n",
    "ax[0][1].set_title(\"Waveform\", fontsize = 16)\n",
    "ax[1][0].plot(t/YRSID_SI, p)\n",
    "ax[1][0].plot(t[t_index_j1]/YRSID_SI,p[t_index_j1], 'ro', ms = 12)\n",
    "ax[1][1].plot(time[j1:j1 + 400]/YRSID_SI, wave_np[j1:j1 + 400])\n",
    "\n",
    "ax[2][0].plot(t, p)\n",
    "ax[2][0].plot(t[t_index_j2],p[t_index_j2], 'ro', ms = 12)\n",
    "ax[2][1].plot(time[j2:j2 + 400]/YRSID_SI, wave_np[j2:j2 + 400])\n",
    "\n",
    "ax[3][0].plot(t/YRSID_SI, p)\n",
    "ax[3][0].plot(t[t_index_j3]/YRSID_SI,p[t_index_j3], 'ro', ms = 12)\n",
    "ax[3][1].plot(time[j3:]/YRSID_SI, wave_np[j3:])\n",
    "\n",
    "\n",
    "for i in range(4):\n",
    "    for j in range(4):\n",
    "        ax[j][0].set_xlabel(r't [years]', fontsize = 16)\n",
    "        ax[j][0].set_ylabel(r'$p(t)$', fontsize = 16)\n",
    "        ax[0][0].legend(fontsize = 16)\n",
    "        ax[j][1].set_ylabel(r'$h_+$', fontsize = 16)\n",
    "        ax[j][1].set_xlabel(r't [years]',fontsize = 16)\n",
    "        if j == 0:\n",
    "            ax[0][1].set_xlabel('t [minutes]', fontsize = 16)\n",
    "        # ax[0][j].set_xlabel('t [years]', fontsize = 16)\n",
    "    plt.show()"
   ]
  },
  {
   "cell_type": "markdown",
   "metadata": {
    "id": "OeC6N0nTLWxg"
   },
   "source": [
    "Notice that as the smaller body ventures closer to the separatrix, both the amplitude and frequencies become larger and larger."
   ]
  },
  {
   "cell_type": "markdown",
   "metadata": {
    "id": "ehvq4WBDLWxh"
   },
   "source": [
    "# Optional Exercise\n",
    "\n",
    "Repeat the same plot as above but instead of plotting the evolution of semi-latus rectum, plot the angular frequency $\\Omega_{\\phi}$."
   ]
  },
  {
   "cell_type": "markdown",
   "metadata": {
    "id": "Z-8q7IycLWxh"
   },
   "source": [
    "## Fourier Domain, Signal to noise ratio and Overlaps.\n",
    "\n",
    "Within gravitational wave astronomy, data analysis is usually conducted in the frequency domain. This is for a multitude of reasons, one being that our probabilistic models used for inferring parameters (such as the likelihood) dramatically simplifies in comparison to its time-domain counterpart. Similarly, analysing gravitational waveforms as a function of frequency may simply reveal more information about the underlying structure of the signal. In this section, we will define the power spectral density of the noise $S_{n}(f)$, a function that qualitatively describes the root mean square average of noise fluctuations from some stationary process. We will then analyse the EMRI waveform in the frequency domain and compute a few useful statistics used within gravitaitonal wave astronomy."
   ]
  },
  {
   "cell_type": "code",
   "execution_count": null,
   "metadata": {
    "id": "qjy_4cMjLWxh"
   },
   "outputs": [],
   "source": [
    "# load Power Spectral Density of LISA. This represents how loud the instrumental noise is.\n",
    "def PowerSpectralDensity(f):\n",
    "    \"\"\"\n",
    "    PSD obtained from: https://arxiv.org/pdf/1803.01944.pdf\n",
    "\n",
    "    Removed galactic confusion noise.\n",
    "    \"\"\"\n",
    "\n",
    "    L = 2.5*10**9   # Length of LISA arm\n",
    "    f0 = 19.09*10**-3\n",
    "\n",
    "    Poms = ((1.5*10**-11)**2)*(1 + ((2*10**-3)/f)**4)  # Optical Metrology Sensor\n",
    "    Pacc = (3*10**-15)**2*(1 + (4*10**-3/(10*f))**2)*(1 + (f/(8*10**-3))**4)  # Acceleration Noise\n",
    "\n",
    "    PSD = ((10/(3*L**2))*(Poms + (4*Pacc)/((2*np.pi*f))**4)*(1 + 0.6*(f/f0)**2)) # PSD\n",
    "\n",
    "    return PSD"
   ]
  },
  {
   "cell_type": "code",
   "execution_count": null,
   "metadata": {
    "colab": {
     "base_uri": "https://localhost:8080/",
     "height": 454
    },
    "executionInfo": {
     "elapsed": 7695,
     "status": "ok",
     "timestamp": 1707708286252,
     "user": {
      "displayName": "Ollie Burke",
      "userId": "11051247479595094499"
     },
     "user_tz": -780
    },
    "id": "3SGIpmbBLWxh",
    "outputId": "7b1fd3ed-a5ae-484d-916f-352b56d32304"
   },
   "outputs": [],
   "source": [
    "# we take the Fast Fourier transform of the signal\n",
    "hp_fft = xp.fft.rfft(wave.real)*dt\n",
    "hx_fft = -xp.fft.rfft(wave.imag)*dt\n",
    "\n",
    "freq = np.fft.rfftfreq(len(wave),dt)\n",
    "freq[0] = freq[1]\n",
    "PSD_np = PowerSpectralDensity(freq)\n",
    "if use_gpu:\n",
    "    PSD_cp = xp.asarray(PSD_np)\n",
    "\n",
    "plt.figure()\n",
    "if use_gpu:\n",
    "    plt.loglog(freq, xp.asnumpy(xp.abs(hp_fft)**2), label = 'Frequency domain EMRI')\n",
    "else:\n",
    "    plt.loglog(freq, np.abs(hp_fft)**2, label = 'Frequency domain EMRI')\n",
    "plt.plot(freq, PSD_np,label='Approx LISA Sensitivity curve',c = 'black', ls = 'dashed')\n",
    "plt.legend()\n",
    "plt.xlim([1e-5,1e-1])\n",
    "plt.ylim([1e-44,1e-29])\n",
    "plt.ylabel(r'$|\\tilde{h}(f)|^2$')\n",
    "plt.xlabel('f [Hz]')\n",
    "plt.show()"
   ]
  },
  {
   "cell_type": "markdown",
   "metadata": {
    "id": "c8b2fW5fLWxh"
   },
   "source": [
    "We define the inner product:\n",
    "$$\n",
    "(a (t)|b (t)) =4 \\Re \\int _{0} ^\\infty \\frac{\\tilde{a} ^* (f) \\tilde{b} (f) }{S_n (f)} \\, {\\rm d} f \\, .\n",
    "$$\n",
    "where the tilde indicates the Fourier transform, the symbol $^*$ indicates the complex conjugation, and $S_n (f)$ is the one-sided noise power spectral density, which can be interpreted as the size of the root mean square fluctuations at a given frequency $\\Delta n _{\\text{rms}} \\sim \\sqrt{S_n(f) \\Delta f}$. From a practical point of view the spectral density represents our information on the detector sensitivity and the aforementioned inner product can be used to quantify the Signal to Noise Ratio (SNR) of a waveform $h(t)$:\n",
    "\n",
    "$$\n",
    "{\\rm SNR}^2 =(h (t)|h (t)) =4 \\Re \\int _{0} ^\\infty \\frac{|\\tilde{h} (f)| }{S_n (f)} \\, {\\rm d} f \\approx 4 \\Re \\sum_{i=0}^{N/2 - 1}\\frac{|\\tilde{h}(f_{i})|^2}{S_{n}(f_{i})}\\Delta f\\, .\n",
    "$$\n",
    "\n",
    "for $\\Delta f$ the spacing between frequencies defined by $\\Delta f = 1/N\\Delta t = 1/T_{\\text{observation}}$.\n",
    "EMRIs are usually considered to be detectable for $SNR\\gtrsim 15$ or so  "
   ]
  },
  {
   "cell_type": "code",
   "execution_count": null,
   "metadata": {
    "colab": {
     "base_uri": "https://localhost:8080/"
    },
    "executionInfo": {
     "elapsed": 2371,
     "status": "ok",
     "timestamp": 1707708298064,
     "user": {
      "displayName": "Ollie Burke",
      "userId": "11051247479595094499"
     },
     "user_tz": -780
    },
    "id": "YeSroo_RLWxh",
    "outputId": "332bb6a5-d028-4540-c2e3-dda92395c092"
   },
   "outputs": [],
   "source": [
    "def inner_product(a,b,dt):\n",
    "    a_tilde = xp.fft.rfft(a)*dt\n",
    "    b_tilde = xp.fft.rfft(b)*dt\n",
    "    freq = xp.fft.rfftfreq(len(a),dt)\n",
    "    freq[0] = freq[1]\n",
    "    df = freq[2]-freq[1]\n",
    "    psd_f = xp.asarray(PowerSpectralDensity(freq))\n",
    "    inn_prod_cp = 4.0 * xp.real ( xp.sum( xp.conj(a_tilde) * b_tilde * df / psd_f) )\n",
    "    inn_prod_np = xp.asnumpy(inn_prod_cp)\n",
    "    return inn_prod_np\n",
    "\n",
    "# the SNR of the previous waveform is\n",
    "SNR = np.sqrt(inner_product(wave.real,wave.real,dt))\n",
    "print(\"SNR =\",SNR)"
   ]
  },
  {
   "cell_type": "markdown",
   "metadata": {
    "id": "hun7foMxLWxh"
   },
   "source": [
    "### Exercise 3\n",
    "Verify that the SNR of an EMRI waveform is:\n",
    "- inversely proportional to the distance\n",
    "- directly proportional to the secondary mass `mu` for fixed total Mass and duration. Make sure that the source does not plunge before the times provided. Otherwise, you might not get the direct proportionality, i.e. set T=`0.001` and vary $\\mu\\in[10,100]$.\n"
   ]
  },
  {
   "cell_type": "code",
   "execution_count": null,
   "metadata": {
    "id": "U66A5vycLWxh"
   },
   "outputs": [],
   "source": [
    "# your turn\n",
    "\n",
    "M = 1e6\n",
    "mu = 1e1\n",
    "p0 = 10.63\n",
    "e0 = 0.3\n",
    "theta = np.pi/3  # polar viewing angle in source frame\n",
    "phi = np.pi/4  # azimuthal viewing angle in source frame\n",
    "\n",
    "\n",
    "dt = 10.0\n",
    "\n",
    "# plt.figure()\n",
    "# for dd in np.linspace(1.0,5.0,num=10):\n",
    "#     wave = few_gen(M, mu, p0, e0, theta, phi, dist=dd, dt=dt, T=2.0)\n",
    "#     SNR = [INSERT YOUR CODE HERE ]\n",
    "#     plt.plot([INSERT YOUR CODE HERE])\n",
    "\n",
    "# plt.xlabel('1/d')\n",
    "# plt.ylabel('SNR')\n",
    "# plt.show()\n",
    "\n",
    "\n",
    "# plt.figure()\n",
    "# for mu in np.linspace(1.0,100.0,num=10):\n",
    "#     wave = few_gen(M, mu, p0, e0, theta, phi, dist=1.0, dt=dt, T=0.1)\n",
    "#     SNR = [INSERT YOUR CODE HERE]\n",
    "#     plt.plot([INSERT YOUR CODE HERE])\n",
    "# plt.xlabel('mu')\n",
    "# plt.ylabel('SNR')\n",
    "# plt.show()"
   ]
  },
  {
   "cell_type": "markdown",
   "metadata": {
    "id": "gxLhmvCFLWxi"
   },
   "source": [
    "We will now introduce another quantity which will be useful for estimating qualitatively how different two waveforms $a(t)$ and $b(t)$ are. We define the ehe Overlap $\\mathcal{O}(a,b)$ between two waveform models $a$ and $b$ by:\n",
    "$$\n",
    "\\mathcal{O} (a,b) = \\frac{<{a}|{b}>}{\\sqrt{<{a}|{a}>} \\sqrt{<{b}|{b}>}} \\in [-1,1] \\, .\n",
    "$$\n",
    "The overlap expresses how similar two signals $a$ and $b$ by weighting the product with the power spectral density of the detector $S_n (f)$. If two signals are identical then the overlap is 1. Another quantity often used in gravitational wave data analysis is the mismatch which is defined as 1 minus the overlap."
   ]
  },
  {
   "cell_type": "code",
   "execution_count": null,
   "metadata": {
    "colab": {
     "base_uri": "https://localhost:8080/"
    },
    "executionInfo": {
     "elapsed": 697,
     "status": "ok",
     "timestamp": 1707708310830,
     "user": {
      "displayName": "Ollie Burke",
      "userId": "11051247479595094499"
     },
     "user_tz": -780
    },
    "id": "H-Q8JDFTLWxi",
    "outputId": "f675a3bc-22b7-47ef-c84a-fe4d78819c7b"
   },
   "outputs": [],
   "source": [
    "def overlap(a,b,dt):\n",
    "    a_b = inner_product(a,b,dt)\n",
    "    a_a = inner_product(a,a,dt)\n",
    "    b_b = inner_product(b,b,dt)\n",
    "    return a_b / np.sqrt(a_a * b_b)\n",
    "\n",
    "print(\"overlap of a signal with itself = \",overlap(wave.real,wave.real,dt))"
   ]
  },
  {
   "cell_type": "code",
   "execution_count": null,
   "metadata": {
    "id": "H6bjEz0vLWxi"
   },
   "outputs": [],
   "source": [
    "# parameters\n",
    "M = 1e6\n",
    "mu = 1e1\n",
    "p0 = 10.63\n",
    "e0 = 0.3\n",
    "theta = np.pi/3  # polar viewing angle in source frame\n",
    "phi = np.pi/4  # azimuthal viewing angle in source frame\n",
    "dt = 10.0\n",
    "\n",
    "base_sig = few_gen(M, mu, p0, e0, theta, phi, dist=1.0, dt=dt, T=1)\n",
    "t_base = np.arange(0,len(base_sig)*dt,dt)"
   ]
  },
  {
   "cell_type": "code",
   "execution_count": null,
   "metadata": {
    "colab": {
     "base_uri": "https://localhost:8080/",
     "height": 541
    },
    "executionInfo": {
     "elapsed": 8673,
     "status": "ok",
     "timestamp": 1707708336802,
     "user": {
      "displayName": "Ollie Burke",
      "userId": "11051247479595094499"
     },
     "user_tz": -780
    },
    "id": "nJFLx34nLWxi",
    "outputId": "9b564f8a-30e6-4613-e755-450cdb0bdd6c"
   },
   "outputs": [],
   "source": [
    "cmap = matplotlib.cm.get_cmap('inferno')\n",
    "fig, axs = plt.subplots(2, 1)\n",
    "axs[0].plot(t_base[:100],xp.asnumpy(base_sig.real[:100]))\n",
    "axs[1].scatter(0.0, 1)\n",
    "axs[1].set_xlabel('phase')\n",
    "axs[1].set_ylabel('Overlap')\n",
    "axs[0].set_ylabel('$h_+$')\n",
    "for phase in np.linspace(0.1, 2*np.pi,num=6):\n",
    "    wave = few_gen(M, mu, p0, e0, theta, phi, dist=1.0, dt=dt, T=1) * xp.exp(1j*phase)\n",
    "    t_wave = np.arange(0,len(wave)*dt,dt)\n",
    "    O = overlap(base_sig.real,wave.real,dt)\n",
    "    axs[0].plot(t_wave[0:100],xp.asnumpy(wave.real[0:100]),'--', color= cmap(phase/(xp.pi*2)))\n",
    "    axs[0].set_xlabel(r'time [seconds]')\n",
    "    axs[1].scatter(phase, O, color= cmap(phase/(np.pi*2)))\n",
    "\n",
    "plt.tight_layout()"
   ]
  },
  {
   "cell_type": "code",
   "execution_count": null,
   "metadata": {
    "colab": {
     "base_uri": "https://localhost:8080/",
     "height": 507
    },
    "executionInfo": {
     "elapsed": 44725,
     "status": "ok",
     "timestamp": 1707708385926,
     "user": {
      "displayName": "Ollie Burke",
      "userId": "11051247479595094499"
     },
     "user_tz": -780
    },
    "id": "cplOrTIOLWxi",
    "outputId": "e100aa7b-5938-40e2-99b8-96e43e39e6cc"
   },
   "outputs": [],
   "source": [
    "# parameters\n",
    "M = 1e6\n",
    "mu = 1e1\n",
    "p0 = 10.63\n",
    "e0 = 0.3\n",
    "theta = np.pi/3  # polar viewing angle in source frame\n",
    "phi = np.pi/4  # azimuthal viewing angle in source frame\n",
    "dt = 10.0\n",
    "\n",
    "cmap = matplotlib.cm.get_cmap('inferno')\n",
    "fig, axs = plt.subplots(1, 1)\n",
    "axs.set_xlabel('$log_{10}\\delta e$')\n",
    "axs.set_ylabel('Overlap')\n",
    "vec = 10**np.linspace(-7, -2,num=10)  # Here we will add small perturbations to parameters\n",
    "logd = np.log10(vec)\n",
    "\n",
    "for T in [0.1, 1, 2]:\n",
    "    base_sig = few_gen(M, mu, p0, e0, theta, phi, dist=1.0, dt=dt, T=T)\n",
    "    O=[]\n",
    "    for delta in vec:\n",
    "        wave = few_gen(M, mu, p0, e0*(1+delta), theta, phi, dist=1.0, dt=dt, T=T)\n",
    "        O.append(overlap(base_sig.real,wave.real,dt))\n",
    "\n",
    "    axs.scatter(logd, (O) , label=f'T={T}')\n",
    "\n",
    "plt.legend()\n",
    "plt.show()"
   ]
  },
  {
   "cell_type": "markdown",
   "metadata": {
    "id": "qEJA6nxCLWxi"
   },
   "source": [
    "### Exercise 4\n",
    "Repeat the previous plot by varying each of the EMRI parameters. Which parameter makes the overlap drop faster?"
   ]
  },
  {
   "cell_type": "code",
   "execution_count": null,
   "metadata": {
    "id": "ZQxfAvzXSPlJ"
   },
   "outputs": [],
   "source": [
    "# # your turn\n",
    "\n",
    "# parameters\n",
    "# M = 1e6\n",
    "# mu = 1e1\n",
    "# p0 = 10.63\n",
    "# e0 = 0.3\n",
    "# theta = np.pi/3  # polar viewing angle in source frame\n",
    "# phi = np.pi/4  # azimuthal viewing angle in source frame\n",
    "# dt = 10.0\n",
    "\n",
    "# cmap = matplotlib.cm.get_cmap('inferno')\n",
    "# fig, axs = plt.subplots(1, 1)\n",
    "# axs.set_xlabel('$\\log_{10}\\delta e$')\n",
    "# axs.set_ylabel('Overlap')\n",
    "# vec = 10**np.linspace(-6, -2,num=10)\n",
    "# logd = np.log10(vec)\n",
    "\n",
    "# T=2\n",
    "\n",
    "# base_sig = few_gen(M, mu, p0, e0, theta, phi, dist=1.0, dt=dt, T=T)\n",
    "\n",
    "# Focus on Parameter M\n",
    "\n",
    "# O=[]\n",
    "# for delta in vec:\n",
    "#     wave = few_gen([INSERT CODE HERE], mu, p0, e0, theta, phi, dist=1.0, dt=dt, T=T)\n",
    "#     O.append(overlap(base_sig.real,wave.real,dt))\n",
    "\n",
    "# axs.scatter(logd, O , label=f'M')\n",
    "\n",
    "# Focus on Parameter mu\n",
    "\n",
    "# O=[]\n",
    "# for delta in vec:\n",
    "#     wave = few_gen(M, [INSERT CODE HERE], p0, e0, theta, phi, dist=1.0, dt=dt, T=T)\n",
    "#     O.append(overlap(base_sig.real,wave.real,dt))\n",
    "\n",
    "# axs.scatter(logd, O , label=f'mu')\n",
    "\n",
    "# Focus on Parameter M\n",
    "\n",
    "# O=[]\n",
    "# for delta in vec:\n",
    "#     wave = few_gen(M, mu, [INSERT CODE HERE], e0, theta, phi, dist=1.0, dt=dt, T=T)\n",
    "#     O.append(overlap(base_sig.real,wave.real,dt))\n",
    "\n",
    "# axs.scatter(logd, O , label=f'p0')\n",
    "\n",
    "\n",
    "# plt.legend()\n",
    "# plt.show()\n"
   ]
  },
  {
   "cell_type": "markdown",
   "metadata": {
    "id": "TIMGXwR0WkZA"
   },
   "source": [
    "## Reflection\n",
    "\n",
    "Let's take a little bit of time to understand exactly what has happened in the plot above. What we are doing here is comparing the \"similarity\" between one base waveform and another waveform with identical parameter sets apart from the eccentricity. What we see here is that if we are to perturb the eccentricity, say, by a very small amount $\\gtrsim 10^{-6}$, only then do we start to see a significant change in the waveform. Loosely speaking, this implies that the EMRI waveforms are immensely sensitive to small perturbations in their parameters."
   ]
  },
  {
   "cell_type": "markdown",
   "metadata": {
    "id": "nZSvC9oyfEhL"
   },
   "source": [
    "# Precision of EMRI Parameters\n",
    "\n",
    "## The Likelihood Function\n",
    "\n",
    "As we saw in the previous exercise, the waveforms emitted from EMRI signals are immensely sensitive to perturbations in their parameters. If we were to detect and recover the parameters of an EMRI, we would find that our ability to measure their parameters would be unparalleled by any other gravitational wave source. We now wish to make this statement a little bit more concrete.\n",
    "\n",
    "For a known form of the PSD, we define the likelihood function\n",
    "\n",
    "$$\n",
    "\\log p(d|\\boldsymbol{\\theta}) \\approx - \\frac{1}{2}(h_{e} - h(\\boldsymbol{\\theta}) | h_{e} - h(\\boldsymbol{\\theta}))\n",
    "$$\n",
    "\n",
    "for $h_{e}$ the exact waveform model and $h(\\boldsymbol{\\theta})$ some model template we wish to use to infer the parameters of the true waveform model. The dimension of the full EMRI parameter space is $\\sim 14$ dimensions and stochastic algorithms are normally used to estimate these parameters. We do not have time for this here, so instead we will show how sensitive the likelihood function is to a single parameter, let's say the eccentricity $e$.\n",
    "\n",
    "In the cell below, we will plot the log-likelihood."
   ]
  },
  {
   "cell_type": "code",
   "execution_count": null,
   "metadata": {
    "colab": {
     "base_uri": "https://localhost:8080/",
     "height": 567
    },
    "executionInfo": {
     "elapsed": 84738,
     "status": "ok",
     "timestamp": 1707708555166,
     "user": {
      "displayName": "Ollie Burke",
      "userId": "11051247479595094499"
     },
     "user_tz": -780
    },
    "id": "m4U02HD7gt2H",
    "outputId": "141307ff-4b65-49cc-f1ed-66c4edc75fbe"
   },
   "outputs": [],
   "source": [
    "# parameters\n",
    "M = 1e6\n",
    "mu = 1e1\n",
    "p0 = 10.63\n",
    "e0 = 0.3\n",
    "theta = np.pi/3  # polar viewing angle in source frame\n",
    "phi = np.pi/4  # azimuthal viewing angle in source frame\n",
    "dt = 10.0\n",
    "\n",
    "true_wave = few_gen(M, mu, p0, e0, theta, phi, dist=1.0, dt=dt, T=2.0)  # Generate true waveform\n",
    "\n",
    "# plot likelihood\n",
    "spacing = 4.6e-8\n",
    "\n",
    "e_range = np.linspace(e0 - 3.5*spacing, e0 + 3.5*spacing, 30)  # Construct range of eccentricity\n",
    "e_range[0] = e0  # Make sure that e0 is contained. Log-likelihood should be zero at this point.\n",
    "e_range.sort()\n",
    "\n",
    "llike_vec = []\n",
    "for ecc_val in tqdm(e_range):\n",
    "  wave_iteration = few_gen(M, mu, p0, ecc_val, theta, phi, dist=1.0, dt=dt, T=2.0)  #\n",
    "  diff = true_wave - wave_iteration # See likelihood equation above.\n",
    "\n",
    "  llike = -0.5*(inner_product(diff,diff,dt))  # Compute likelihood value\n",
    "  llike_vec.append(llike)\n",
    "\n",
    "# Plot results\n",
    "plt.plot(xp.asnumpy(e_range),np.exp(xp.asnumpy(llike_vec)),'*')\n",
    "plt.plot(xp.asnumpy(e_range),np.exp(xp.asnumpy(llike_vec)),c = 'black')\n",
    "plt.xlabel(r'Eccentricity',fontsize = 16)\n",
    "plt.ylabel(r'Likelihood',fontsize = 16)\n",
    "plt.title(r'Plot of likelihood over 1 parameter', fontsize = 14)"
   ]
  },
  {
   "cell_type": "markdown",
   "metadata": {
    "id": "xNY0OSS_hFn4"
   },
   "source": [
    "# Reflection\n",
    "\n",
    "If you look at the x axes, you will see that the likelihood is Gaussian in nature and is peaked at the true value $e_{0} = 0.3$. Due to how incredibly sensitive the EMRI waveform is to the initial eccentricity, we see that the likelihood quickly tapers off  and then very quickly tapers towards zero.\n",
    "\n",
    "## Cheap way to estimate precision in parameters: Fisher Matrix\n",
    "\n",
    "Instead of plotting the likelihood, there is a very cheap way to estimate our ability to measure parameters of EMRIs. One can compute the Fisher information matrix\n",
    "\n",
    "$$\n",
    "\\Gamma_{ij} = (\\partial_{i}h | \\partial_{j}h) = 4\\mathbb{R}\\int_{0}^{\\infty}\\frac{1}{S_{n}(f)}\\bigg\\rvert \\frac{\\partial \\tilde{h}}{\\partial \\theta^{i}} \\frac{\\partial \\tilde{h}^{\\star}}{\\partial \\theta^{j}}\\bigg\\rvert^{2} df\n",
    "$$\n",
    "\n",
    "The diagonal elements of the inverse Fisher matrix gives a guide on how well one can measure the parameters of the system. We give an example of how a Fisher matrix and estimate for the $1\\sigma$ precision of the eccentricity below.\n"
   ]
  },
  {
   "cell_type": "code",
   "execution_count": null,
   "metadata": {
    "id": "jKPttl42Xc-C"
   },
   "outputs": [],
   "source": [
    "de = 1e-7  # Set step size for numerical derivative\n",
    "\n",
    "wave_p = few_gen(M, mu, p0, e0 + de, theta, phi, dist=1.0, dt=dt, T=2)\n",
    "wave_m = few_gen(M, mu, p0, e0 - de, theta, phi, dist=1.0, dt=dt, T=2)\n",
    "deriv_wave = ((wave_p - wave_m) / (2*de)) # Compute Derivative\n",
    "\n",
    "deriv_wave_fft = xp.fft.rfft(deriv_wave)\n",
    "\n",
    "gamma_ee = inner_product(deriv_wave.real,deriv_wave.real,dt)  # Just a scalar\n",
    "\n",
    "precision_e = gamma_ee**(-1/2) # Reciprocal and square root.\n",
    "\n",
    "# precision_e above is our approximate for the 1\\sigma width of the likelihood\n",
    "# function.\n",
    "\n"
   ]
  },
  {
   "cell_type": "code",
   "execution_count": null,
   "metadata": {
    "colab": {
     "base_uri": "https://localhost:8080/",
     "height": 465
    },
    "executionInfo": {
     "elapsed": 751,
     "status": "ok",
     "timestamp": 1707708594300,
     "user": {
      "displayName": "Ollie Burke",
      "userId": "11051247479595094499"
     },
     "user_tz": -780
    },
    "id": "7gMRZrIWb8RI",
    "outputId": "1821f44e-f16b-45e0-c494-3ac13677c8d9"
   },
   "outputs": [],
   "source": [
    "# Let's check our result!\n",
    "precision_e_np = xp.asnumpy(precision_e)\n",
    "\n",
    "approx_pdf = np.exp(-(e_range - e0)**2 / (2*precision_e_np**2))\n",
    "\n",
    "plt.plot(xp.asnumpy(e_range),np.exp(xp.asnumpy(llike_vec)),'*', label = 'Likelihood')\n",
    "plt.plot(xp.asnumpy(e_range),xp.asnumpy(approx_pdf), label = 'FM approx')\n",
    "plt.legend()"
   ]
  },
  {
   "cell_type": "markdown",
   "metadata": {
    "id": "ZpW4Gepyj-7M"
   },
   "source": [
    "### Nailed it\n",
    "\n",
    "As one can see from the plot above, we have managed to cheaply compute how well we expect to measure the EMRI parameters. This is very useful, it can take days, if not weeks to run full Bayesian inference on EMRIs. Hence, to scope out the LISA science of EMRIs, Fisher matrices can be used to cheaply understand how well one can measure parameters of various astrophysical scenarios."
   ]
  },
  {
   "cell_type": "markdown",
   "metadata": {
    "id": "4WPUy5cJkonB"
   },
   "source": [
    "# Exercise 5\n",
    "\n",
    "Using the Fisher matrix formalism, try to understand how well we can measure the primary mass $M$ for the EMRI given above. If you get bored, try and investigate the other parameters as well.\n",
    "\n",
    "Using the Fisher matrix, prove that the fisher information on the distance can be written as\n",
    "\n",
    "$$\n",
    "\\Gamma_{d_{L}d_{L}} = \\frac{\\rho^{2}}{d_{L}^{2}}\n",
    "$$\n",
    "\n",
    "where $\\rho^{2} = (h|h)$ is the optimal matched-filtering SNR. Then verify that, indeed, we can measure $\\Delta d_{L} = d_{L}/\\rho.$\n",
    "\n",
    "\n"
   ]
  },
  {
   "cell_type": "code",
   "execution_count": null,
   "metadata": {
    "id": "SDzaMAUwlCtr"
   },
   "outputs": [],
   "source": [
    "# dM = 1e-1  # Set step size for numerical derivative\n",
    "\n",
    "# wave_p = few_gen([INSERT CODE HERE])\n",
    "# wave_m = few_gen([INSERT CODE HERE])\n",
    "\n",
    "# deriv_wave = [INSERT CODE HERE]\n",
    "\n",
    "# deriv_wave_fft = xp.fft.rfft(deriv_wave)\n",
    "\n",
    "# gamma_MM = inner_product(deriv_wave.real,deriv_wave.real,dt)  # Just a scalar\n",
    "\n",
    "# precision_M = [INSERT CODE HERE]\n",
    "\n",
    "# print(\"Precision we can expect to measure the primary mass is\", precision_M)\n",
    "\n",
    "# Analytical solution present at the bottom of this notebook ;)"
   ]
  },
  {
   "cell_type": "markdown",
   "metadata": {
    "id": "K9pl9E_4LWxj"
   },
   "source": [
    "## Time-Frequency Domain\n",
    "\n",
    "So far we have analysed EMRIs in a specific domain: the time-domain. This is just one type of window in which to view the world of EMRIs. It may be more instructive to analyse EMRIs in other types of domains, such as the time-frequency or purely the frequency domain. In the cells that follow, we will plot a spectrogram of EMRIs to truly show the rich harmonic structure offered by this awesome sources."
   ]
  },
  {
   "cell_type": "code",
   "execution_count": null,
   "metadata": {
    "id": "AeEypGkOLWxj"
   },
   "outputs": [],
   "source": [
    "# parameters\n",
    "M = 1e6\n",
    "mu = 1e1\n",
    "p0 = 9.55\n",
    "e0 = 0.3\n",
    "theta = np.pi/3  # polar viewing angle in source frame\n",
    "phi = np.pi/4  # azimuthal viewing angle in source frame\n",
    "dt = 10.0\n",
    "\n",
    "wave = few_gen(M, mu, p0, e0, theta, phi, dist=1.0, dt=dt, T=1.0)  # Generate our source\n",
    "wave_np = xp.asnumpy(wave.real)"
   ]
  },
  {
   "cell_type": "code",
   "execution_count": null,
   "metadata": {
    "id": "HF1F5Yc-LWxj"
   },
   "outputs": [],
   "source": [
    "from scipy import signal\n",
    "# short fourier transform of the signal\n",
    "f, t, Zxx = signal.stft(wave_np, 1/dt, nperseg=5000)"
   ]
  },
  {
   "cell_type": "code",
   "execution_count": null,
   "metadata": {
    "colab": {
     "base_uri": "https://localhost:8080/",
     "height": 894
    },
    "executionInfo": {
     "elapsed": 24435,
     "status": "ok",
     "timestamp": 1707709610537,
     "user": {
      "displayName": "Ollie Burke",
      "userId": "11051247479595094499"
     },
     "user_tz": -780
    },
    "id": "8dknxOrULWxj",
    "outputId": "13a4e4a0-f4cf-4611-a830-d07e6623b083"
   },
   "outputs": [],
   "source": [
    "plt.figure(figsize=(16,10))\n",
    "cb = plt.pcolormesh(t/YRSID_SI, f, np.log10(np.abs(Zxx)), shading='gouraud')\n",
    "plt.colorbar(cb,)\n",
    "plt.title('STFT Magnitude',fontsize = 20)\n",
    "plt.ylabel('Frequency [Hz]', fontsize = 20)\n",
    "plt.xlabel('Time [Years]', fontsize = 20)\n",
    "plt.yscale('log')\n",
    "plt.ylim([1e-4, f[-1]])\n",
    "plt.show()"
   ]
  },
  {
   "cell_type": "markdown",
   "metadata": {
    "id": "BtaAY9DdLWxj"
   },
   "source": [
    "### Exercise 6\n",
    "In the previous plot the different harmonics of the waveform can be recognized as tracks in time-frequency space. As exercise, try to plot the frequency tracks as a function of time on top of the previous plot. Take the same input parameters and run a trajectory to obtain the `p` and `e` evolution. Then pass these arrays into the the function `get_fundamental_frequencies` and obtain the three fundamental frequencies. Then convert to the correct units and plot the frequency $f=(m \\Omega_\\varphi + n \\Omega_r)/(2\\pi)$ for some values of your choice for $m$ and $n$. See if you can identify some tracks yourself."
   ]
  },
  {
   "cell_type": "code",
   "execution_count": null,
   "metadata": {
    "id": "lp0YzDhuLWxj"
   },
   "outputs": [],
   "source": [
    "# parameters\n",
    "M = 1e6\n",
    "mu = 1e1\n",
    "p0 = 9.55\n",
    "e0 = 0.3\n",
    "theta = np.pi/3  # polar viewing angle in source frame\n",
    "phi = np.pi/4  # azimuthal viewing angle in source frame\n",
    "dt = 10.0\n",
    "\n",
    "wave = few_gen(M, mu, p0, e0, theta, phi, dist=1.0, dt=dt, T=1.0)\n",
    "wave_np = xp.asnumpy(wave.real)\n",
    "\n",
    "f, t, Zxx = signal.stft(wave_np, 1/dt, nperseg=5000)\n",
    "\n",
    "time, p, e, x, Phi_phi, Phi_theta, Phi_r = traj(M, mu, 0.0, p0, e0, 1.0, T=1.0, dt=dt)\n",
    "OmegaPhi, OmegaTheta, OmegaR = get_fundamental_frequencies(0.0, p, e, 1.0)\n",
    "\n"
   ]
  },
  {
   "cell_type": "code",
   "execution_count": null,
   "metadata": {
    "colab": {
     "base_uri": "https://localhost:8080/",
     "height": 872
    },
    "executionInfo": {
     "elapsed": 20884,
     "status": "ok",
     "timestamp": 1707709851612,
     "user": {
      "displayName": "Ollie Burke",
      "userId": "11051247479595094499"
     },
     "user_tz": -780
    },
    "id": "XSLx2EfDLWxj",
    "outputId": "f736b2cd-88e1-45ab-ade9-38f1b4c79d0a"
   },
   "outputs": [],
   "source": [
    "fharmonics_phi = [m*OmegaPhi / (M*MTSUN_SI) / (np.pi*2) for m in range(1,10)]\n",
    "# fharmonics_r = [n*OmegaR / (M*MTSUN_SI) / (np.pi*2) for n in range(1,10)]\n",
    "\n",
    "m = 1\n",
    "n = 0\n",
    "\n",
    "f_combo_r_phi = (m*OmegaPhi + n*OmegaR)/(M*MTSUN_SI)/(np.pi*2)\n",
    "plt.figure(figsize=(16,10))\n",
    "cb = plt.pcolormesh(t, f, np.log10(np.abs(Zxx)), shading='gouraud')\n",
    "for j in range(0,1):\n",
    "    plt.plot(time, fharmonics_phi[j],'r')\n",
    "#     plt.plot(time,fharmonics_r[j],'white', linestyle='--')\\\n",
    "#     plt.plot(time,f_combo_r_phi, c = 'red', linestyle = '--')\n",
    "plt.colorbar(cb,)\n",
    "plt.title('STFT Magnitude')\n",
    "plt.ylabel('Frequency [Hz]')\n",
    "plt.xlabel('Time [sec]')\n",
    "plt.yscale('log')\n",
    "plt.ylim([1e-4, f[-1]])\n",
    "\n",
    "plt.show()"
   ]
  },
  {
   "cell_type": "markdown",
   "metadata": {
    "id": "4GTsC3ltLWxk"
   },
   "source": [
    "# Frequency domain EMRI waveform\n",
    "\n",
    "In the cells above, we focused on EMRIs in the time-frequency domain. In the cells that follow we will introduce a new waveform model [recently published](https://arxiv.org/abs/2307.12585), which is a pure frequency domain EMRI waveform model.\n",
    "\n",
    "We begin by setting up two classes. The first `fd_gen` stands for **frequency domain generator** and `td_gen` stands for, you guessed it, **time domain generator**. We are also pushing for GPUs to be used here so we can analyse full analysis length signals ($\\geq$ 1 years)."
   ]
  },
  {
   "cell_type": "code",
   "execution_count": null,
   "metadata": {
    "id": "psv93dKMLWxk"
   },
   "outputs": [],
   "source": [
    "# frequency domain\n",
    "fd_gen = GenerateEMRIWaveform(\n",
    "    \"FastSchwarzschildEccentricFlux\",\n",
    "    sum_kwargs=dict(pad_output=True, output_type=\"fd\", odd_len=True),\n",
    "    return_list=True,\n",
    "    use_gpu = True\n",
    ")\n",
    "\n",
    "# time domain\n",
    "td_gen = GenerateEMRIWaveform(\n",
    "    \"FastSchwarzschildEccentricFlux\",\n",
    "    sum_kwargs=dict(pad_output=True, odd_len=True),\n",
    "    return_list=True,\n",
    "    use_gpu = True\n",
    ")\n"
   ]
  },
  {
   "cell_type": "code",
   "execution_count": null,
   "metadata": {
    "id": "eb3UOQ3oLWxk"
   },
   "outputs": [],
   "source": [
    "# define the EMRI parameters\n",
    "\n",
    "M = 1e6\n",
    "mu = 1e1\n",
    "a = 0.0\n",
    "p0 = 9.6\n",
    "e0 = 0.5\n",
    "\n",
    "theta = np.pi/3  # polar viewing angle in source frame\n",
    "phi = np.pi/4  # azimuthal viewing angle in source frame\n",
    "\n",
    "x_I = 1.0  # will be ignored in Schwarzschild waveform\n",
    "\n",
    "qK = np.pi/3  # polar spin angle\n",
    "phiK = np.pi/3  # azimuthal viewing angle\n",
    "qS = np.pi/3  # polar sky angle\n",
    "phiS = np.pi/3  # azimuthal viewing angle\n",
    "\n",
    "dist = 1.0  # distance\n",
    "# initial phases\n",
    "\n",
    "Phi_phi0 = 0\n",
    "Phi_theta0 = 0.0\n",
    "Phi_r0 = 0\n",
    "\n",
    "Tobs = 1.0 # observation time, if the inspiral is shorter, the it will be zero padded\n",
    "dt = 10.0 # time interval\n",
    "\n",
    "waveform_kwargs = {\n",
    "    \"T\": Tobs,\n",
    "    \"dt\": dt,\n",
    "    \"eps\": 1e-6\n",
    "}\n"
   ]
  },
  {
   "cell_type": "markdown",
   "metadata": {
    "id": "WUdKeWQMSPlM"
   },
   "source": [
    "# Pure time domain\n",
    "\n",
    "Let's now generate a waveform in the time domain and convert to the frequency domain through the `fft`"
   ]
  },
  {
   "cell_type": "code",
   "execution_count": null,
   "metadata": {
    "colab": {
     "base_uri": "https://localhost:8080/",
     "height": 517
    },
    "executionInfo": {
     "elapsed": 6036,
     "status": "ok",
     "timestamp": 1707710991518,
     "user": {
      "displayName": "Ollie Burke",
      "userId": "11051247479595094499"
     },
     "user_tz": -780
    },
    "id": "e-YapEl1LWxk",
    "outputId": "978cba6b-3de2-4321-e122-290d4537f054"
   },
   "outputs": [],
   "source": [
    "# First let's try to generate a full year long EMRI waveform in the time domain and look at the periodigram\n",
    "hp_td, hx_td = td_gen(M, mu, a, p0, e0, x_I, dist, qK, phiK, qS, phiS, Phi_phi0, Phi_theta0, Phi_r0, **waveform_kwargs)\n",
    "\n",
    "t_range = np.arange(0,Tobs*YRSID_SI,dt)\n",
    "N_t = len(hp_td)\n",
    "\n",
    "freq_bin_np = np.fft.rfftfreq(N_t, dt)\n",
    "\n",
    "hp_fft = xp.fft.rfft(hp_td)\n",
    "hp_fft_np = xp.asnumpy(hp_fft)\n",
    "\n",
    "fig,ax = plt.subplots(1,2, figsize = (16,5))\n",
    "ax[0].plot(t_range/60/60/24,xp.asnumpy(hp_td))\n",
    "ax[0].set_xlabel(r'Time [days]', fontsize = 16)\n",
    "ax[0].set_ylabel(r'$h_{p}(t)$',fontsize = 16)\n",
    "ax[0].set_title('Time domain',fontsize = 16)\n",
    "\n",
    "ax[1].loglog(freq_bin_np[1:], abs(hp_fft_np[1:]**2))\n",
    "ax[1].set_xlim([1e-5,1e-1])\n",
    "ax[1].set_xlabel(r'Frequency [Hz]', fontsize = 16)\n",
    "ax[1].set_ylabel(r'$|h_{p}(f)|^2$',fontsize = 16)\n",
    "ax[1].set_title('Frequency domain',fontsize = 16)"
   ]
  },
  {
   "cell_type": "markdown",
   "metadata": {
    "id": "8V5U-cUcLWxk"
   },
   "source": [
    "## Pure frequency domain\n",
    "Now let's generate the waveform directly in the frequency domain and compare to the fft'd time-domain variate."
   ]
  },
  {
   "cell_type": "code",
   "execution_count": null,
   "metadata": {
    "id": "Ps5z_6tqLWxk"
   },
   "outputs": [],
   "source": [
    "hp_fd, hx_fd = fd_gen(M, mu, a, p0, e0, x_I, dist, qK, phiK, qS, phiS, Phi_phi0, Phi_theta0, Phi_r0, **waveform_kwargs)\n",
    "hp_fd_np = xp.asnumpy(hp_fd)"
   ]
  },
  {
   "cell_type": "code",
   "execution_count": null,
   "metadata": {
    "colab": {
     "base_uri": "https://localhost:8080/",
     "height": 476
    },
    "executionInfo": {
     "elapsed": 3595,
     "status": "ok",
     "timestamp": 1707711033336,
     "user": {
      "displayName": "Ollie Burke",
      "userId": "11051247479595094499"
     },
     "user_tz": -780
    },
    "id": "a-k3iXFFLWxk",
    "outputId": "eafb3387-b558-4019-d4f6-b9c1c23d097b"
   },
   "outputs": [],
   "source": [
    "freqs = fd_gen.waveform_generator.create_waveform.frequency\n",
    "freqs_np = xp.asnumpy(freqs)\n",
    "df = abs(freqs[2] - freqs[1])\n",
    "\n",
    "plt.loglog(freq_bin_np[1:], abs(dt * hp_fft_np[1:])**2, label = 'TD into FD', alpha = 1, c = 'blue')\n",
    "plt.loglog(freqs_np[N_t//2 + 1:], abs(hp_fd_np[N_t//2 + 1:])**2,label = 'pure FD', alpha = 0.5, c = 'orange')\n",
    "\n",
    "plt.xlim([1e-5,1e-1])\n",
    "plt.xlabel(\"Frequencies [Hz]\")\n",
    "plt.ylabel(r'Periodigram $|\\tilde{h}(f)|^2$')\n",
    "plt.title(r'Comparison between waveform models')\n",
    "plt.show()"
   ]
  },
  {
   "cell_type": "code",
   "execution_count": null,
   "metadata": {
    "colab": {
     "base_uri": "https://localhost:8080/"
    },
    "executionInfo": {
     "elapsed": 521,
     "status": "ok",
     "timestamp": 1707711070798,
     "user": {
      "displayName": "Ollie Burke",
      "userId": "11051247479595094499"
     },
     "user_tz": -780
    },
    "id": "l_1jxHhyLWxk",
    "outputId": "a81f3c92-476a-4094-8d85-712b67ca9ab3"
   },
   "outputs": [],
   "source": [
    "def inner_product_FD(a_f,b_f,df, PSD):\n",
    "    return 4.0 * xp.real ( xp.sum( xp.conj(a_f) * b_f * df / PSD) )\n",
    "\n",
    "PSD_cp = xp.asarray(PowerSpectralDensity(freqs_np[N_t//2 + 1:]))\n",
    "\n",
    "SNR2_FD_model = inner_product_FD(hp_fd[N_t//2 + 1:], hp_fd[N_t//2 + 1:], df, PSD_cp)\n",
    "SNR2_TD_model = inner_product_FD(dt*hp_fft[1:], dt*hp_fft[1:], df, PSD_cp)\n",
    "\n",
    "print(\"Approximate SNR of the system using frequency domain model\",np.sqrt(SNR2_FD_model))\n",
    "print(\"Approximate SNR of the system using time domain model\",np.sqrt(SNR2_TD_model))\n",
    "print(\"\")\n",
    "print(\"Not bad.\")"
   ]
  },
  {
   "cell_type": "markdown",
   "metadata": {
    "id": "uVudb_6hLWxl"
   },
   "source": [
    "## Exercise 7\n",
    "\n",
    "Now using the overlap function defined by\n",
    "\n",
    "$$ \\mathcal{O}(a,b) = \\frac{(a|b)}{\\sqrt{(a|a)(b|b)}}, \\ \\ \\text{with inner product:} \\ \\ (a|b) = 4\\int_{0}^{\\infty}\\frac{\\tilde{a}(f)\\tilde{b}^{\\star}(f)}{S_{n}(f)}$$\n",
    "\n",
    "try and show that the two waveform models `fd_gen` and `td_gen` are near equivalent for the parameters given above."
   ]
  },
  {
   "cell_type": "code",
   "execution_count": null,
   "metadata": {
    "id": "pvH5e3alLWxl"
   },
   "outputs": [],
   "source": [
    "# Your turn!\n",
    "\n",
    "# ab = inner_product_FD([INSERT YOUR CODE HERE])\n",
    "# aa = inner_product_FD(hp_fd[N_t//2 + 1:], hp_fd[N_t//2 + 1:], df, PSD_cp)\n",
    "# bb = inner_product_FD(dt * hp_fft[1:], dt * hp_fft[1:], df, PSD_cp)\n",
    "\n",
    "# overlap = [INSERT YOUR CODE HERE]\n",
    "\n",
    "# print(\"Overlap between two models is = \", overlap)"
   ]
  },
  {
   "cell_type": "markdown",
   "metadata": {
    "id": "LHXq_alqLWxl"
   },
   "source": [
    "# End of Tutorial... Well done!\n",
    "\n",
    "Congratulations! You should now know the basics of EMRI waveform modelling. For an EMRI, you should now be able to generate a trajectory and an associated snapshot waveform!\n",
    "\n",
    "We have just skimmed the surface of the `FastEMRIWaveforms` package though. The waveforms we have generated have been specific to eccentric inspirals of point particles into non-rotating black holes. Below we discuss a (very approximate) generic orbit waveform interface that generates waveforms for generic orbits into rotating black holes.\n",
    "\n",
    "The rest of the material is optional. However, if you are keen and continue to have questions after this tutorial, feel free to email me or Lorenzo.\n",
    "\n",
    "ollie.burke@l2it.in2p3.fr\n",
    "\n",
    "lorenzo.speri@aei.mpg.de"
   ]
  },
  {
   "cell_type": "markdown",
   "metadata": {
    "id": "cBjZq-OZLWxl"
   },
   "source": [
    "## Extra Material: Augmented Analytic Kludge with 5PN trajectory"
   ]
  },
  {
   "cell_type": "markdown",
   "metadata": {
    "id": "I5thhWpsLWxl"
   },
   "source": [
    "We have now implemented a new version of the Augmented Analytic Kludge with 5PN trajectories.\n",
    "\n",
    "Waveforms are generated based on the Augmented Analytic Kludge given in the [EMRI Kludge Suite](https://github.com/alvincjk/EMRI_Kludge_Suite/). However, here the trajectory is vastly improved by employing the 5PN fluxes for generic Kerr orbits from [Fujita & Shibata (2020)](https://arxiv.org/abs/2008.13554).\n",
    "\n",
    "The 5PN trajectory produces orbital and phase trajectories. The trajectory is calculated until the orbit reaches within 0.2 of the separatrix, determined from [Stein and Warburton (2020)](https://arxiv.org/abs/1912.07609/). The\n",
    "fundamental frequencies along the trajectory at each point are then calculated from the orbital parameters and the spin value given by [Schmidt (2002)](https://arxiv.org/abs/gr-qc/0202090>).\n",
    "\n",
    "These frequencies along the trajectory are then used to map to the frequency basis of the [Analytic Kludge](https://arxiv.org/abs/gr-qc/0310125). This mapping takes the form of time evolving large mass and spin parameters, as\n",
    "well as the use of phases and frequencies in $\\alpha, \\Phi, \\gamma$:\n",
    "\n",
    "$$\n",
    "\\Phi = \\Phi_\\phi,\n",
    "$$\n",
    "$$\n",
    "\\gamma = \\Phi_\\phi + \\Phi_\\theta\n",
    "$$\n",
    "$$\n",
    "\\alpha = \\Phi_\\phi + \\Phi_\\theta + \\Phi_r.\n",
    "$$\n",
    "\n",
    "\n",
    "The frequencies in that basis are found by taking the time derivatives\n",
    "of each equation above.\n",
    "\n",
    "**Please note:** the 5PN trajectory and AAK waveform take the parameter $Y\\equiv\\cos{\\iota}=L/\\sqrt{L^2 + Q}$ rather than $x_I$ as is accepted for relativistic waveforms and in the generic waveform interface discussed above. The generic waveform interface directly converts $x_I$ to $Y$.\n",
    "\n",
    "This class has GPU capabilities and works from the sparse trajectory methodoligy with cubic spine interpolation of the smoothly varying waveform quantities. This waveform does not have the freedom in terms of user-chosen quantitites that\n",
    "`few.waveform.SchwarzschildEccentricWaveformBase` contains. This is mainly due to the specific waveform constructions particular to the AAK/AK.\n"
   ]
  },
  {
   "cell_type": "code",
   "execution_count": null,
   "metadata": {
    "id": "tYLjn_BZLWxl"
   },
   "outputs": [],
   "source": [
    "use_gpu = True\n",
    "\n",
    "# keyword arguments for inspiral generator (RunKerrGenericPn5Inspiral)\n",
    "inspiral_kwargs = {\n",
    "    \"DENSE_STEPPING\": 0,  # we want a sparsely sampled trajectory\n",
    "    \"max_init_len\": int(1e3),  # all of the trajectories will be well under len = 1000\n",
    "}\n",
    "\n",
    "# keyword arguments for summation generator (AAKSummation)\n",
    "sum_kwargs = {\n",
    "    \"use_gpu\": use_gpu,  # GPU is available for this type of summation\n",
    "    \"pad_output\": False,\n",
    "}\n",
    "\n",
    "wave_generator = Pn5AAKWaveform(inspiral_kwargs=inspiral_kwargs, sum_kwargs=sum_kwargs, use_gpu=use_gpu)\n",
    "\n",
    "# set initial parameters\n",
    "M = 1e6\n",
    "mu = 1e1\n",
    "a = 0.2\n",
    "p0 = 14.0\n",
    "e0 = 0.6\n",
    "iota0 = 0.1\n",
    "Y0 = np.cos(iota0)\n",
    "Phi_phi0 = 0.2\n",
    "Phi_theta0 = 1.2\n",
    "Phi_r0 = 0.8\n",
    "\n",
    "\n",
    "qS = 0.2\n",
    "phiS = 0.2\n",
    "qK = 0.8\n",
    "phiK = 0.8\n",
    "dist = 1.0\n",
    "mich = False\n",
    "dt = 15.0\n",
    "T = 2.0\n",
    "\n",
    "waveform = wave_generator(M, mu, a, p0, e0, Y0, qS, phiS, qK, phiK, dist,\n",
    "                          Phi_phi0=Phi_phi0, Phi_theta0=Phi_theta0, Phi_r0=Phi_r0, mich=mich, dt=dt, T=T)\n",
    "\n",
    "waveform_real_np = xp.asnumpy(waveform.real)\n",
    "waveform_imag_np = xp.asnumpy(waveform.imag)\n"
   ]
  },
  {
   "cell_type": "code",
   "execution_count": null,
   "metadata": {
    "colab": {
     "base_uri": "https://localhost:8080/",
     "height": 480
    },
    "executionInfo": {
     "elapsed": 4667,
     "status": "ok",
     "timestamp": 1707711176932,
     "user": {
      "displayName": "Ollie Burke",
      "userId": "11051247479595094499"
     },
     "user_tz": -780
    },
    "id": "b-3blaVxLWxl",
    "outputId": "0546c800-5f6c-4789-ef23-a5d291cdb6fd"
   },
   "outputs": [],
   "source": [
    "t = np.arange(len(waveform)) * dt\n",
    "plt.plot(t, waveform_real_np)\n",
    "plt.plot(t, waveform_imag_np)"
   ]
  },
  {
   "cell_type": "markdown",
   "metadata": {
    "id": "VKb_PLWiLWxm"
   },
   "source": [
    "We can also assume a long-wavelength LISA response by setting `mich=True`. Please note this is not Time-delay interferometry (TDI)."
   ]
  },
  {
   "cell_type": "code",
   "execution_count": null,
   "metadata": {
    "id": "jm6XZr2GLWxm"
   },
   "outputs": [],
   "source": [
    "waveform_lw_cp = wave_generator(M, mu, a, p0, e0, Y0, qS, phiS, qK, phiK, dist, mich=True, dt=dt, T=T)\n",
    "waveform_lw_real_np = xp.asnumpy(waveform_lw_cp.real)\n",
    "waveform_lw_imag_np = xp.asnumpy(waveform_lw_cp.imag)"
   ]
  },
  {
   "cell_type": "code",
   "execution_count": null,
   "metadata": {
    "colab": {
     "base_uri": "https://localhost:8080/",
     "height": 480
    },
    "executionInfo": {
     "elapsed": 4043,
     "status": "ok",
     "timestamp": 1707711266686,
     "user": {
      "displayName": "Ollie Burke",
      "userId": "11051247479595094499"
     },
     "user_tz": -780
    },
    "id": "mQ3pAcaKLWxm",
    "outputId": "7696d90a-411a-4ccf-aab3-85b25657f3fd"
   },
   "outputs": [],
   "source": [
    "t = np.arange(len(waveform_lw_cp)) * dt\n",
    "plt.plot(t, waveform_lw_real_np)\n",
    "plt.plot(t, waveform_lw_imag_np)"
   ]
  },
  {
   "cell_type": "markdown",
   "metadata": {
    "id": "Zu4lqPZ9LWxm"
   },
   "source": [
    "### 5PN Trajectory"
   ]
  },
  {
   "cell_type": "markdown",
   "metadata": {
    "id": "gg-lRAXuLWxm"
   },
   "source": [
    "This new waveform includes 5PN trajectories from [Fujita & Shibata 2020](https://arxiv.org/abs/2008.13554)."
   ]
  },
  {
   "cell_type": "code",
   "execution_count": null,
   "metadata": {
    "id": "R9b4A2RGLWxm"
   },
   "outputs": [],
   "source": [
    "# initialize trajectory class\n",
    "traj = EMRIInspiral(func=\"pn5\")"
   ]
  },
  {
   "cell_type": "code",
   "execution_count": null,
   "metadata": {
    "colab": {
     "base_uri": "https://localhost:8080/"
    },
    "executionInfo": {
     "elapsed": 423,
     "status": "ok",
     "timestamp": 1707711315569,
     "user": {
      "displayName": "Ollie Burke",
      "userId": "11051247479595094499"
     },
     "user_tz": -780
    },
    "id": "GbL7tGYpLWxm",
    "outputId": "a8a5ce63-b338-4bb4-cbf0-902120159dbb"
   },
   "outputs": [],
   "source": [
    "# set initial parameters\n",
    "M = 1e5\n",
    "mu = 1e1\n",
    "a = 0.5\n",
    "p0 = 14.0\n",
    "e0 = 0.7\n",
    "iota0 = 0.1\n",
    "Y0 = np.cos(iota0)\n",
    "T = 2.0\n",
    "Phi_phi0 = 1.0\n",
    "Phi_theta0 = 2.0\n",
    "Phi_r0 = 3.0\n",
    "\n",
    "\n",
    "# run trajectory\n",
    "t, p, e, Y, Phi_phi, Phi_r, Phi_theta = traj(M, mu, a, p0, e0, Y0,\n",
    "                                             Phi_phi0=Phi_phi0, Phi_theta0=Phi_theta0, Phi_r0=Phi_r0, T=T)\n",
    "print(len(p), p.min())"
   ]
  },
  {
   "cell_type": "code",
   "execution_count": null,
   "metadata": {
    "colab": {
     "base_uri": "https://localhost:8080/",
     "height": 702
    },
    "executionInfo": {
     "elapsed": 3446,
     "status": "ok",
     "timestamp": 1707711344780,
     "user": {
      "displayName": "Ollie Burke",
      "userId": "11051247479595094499"
     },
     "user_tz": -780
    },
    "id": "uyZjTs4gLWxn",
    "outputId": "f4ef3360-8d6b-4fa1-b2b5-8bd0f08d1cbb"
   },
   "outputs": [],
   "source": [
    "fig, axes = plt.subplots(2, 4)\n",
    "plt.subplots_adjust(wspace=0.5)\n",
    "fig.set_size_inches(14, 8)\n",
    "axes = axes.ravel()\n",
    "\n",
    "ylabels = [r'$e$', r'$p$', r'$e$', r'$Y$', r'$\\Phi_\\phi$', r'$\\Phi_r$', r'$\\Phi_\\theta$']\n",
    "xlabels = [r'$p$', r'$t$', r'$t$', r'$t$', r'$t$', r'$t$', r'$t$', r'$t$', r'$t$']\n",
    "ys = [e, p, e, Y, Phi_phi, Phi_r, Phi_theta]\n",
    "xs = [p, t, t, t, t, t, t]\n",
    "\n",
    "for i, (ax, x, y, xlab, ylab) in enumerate(zip(axes, xs, ys, xlabels, ylabels)):\n",
    "    ax.plot(x, y)\n",
    "    ax.set_xlabel(xlab, fontsize=16)\n",
    "    ax.set_ylabel(ylab, fontsize=16)\n",
    "    ax.grid()\n",
    "\n",
    "axes[-1].set_visible(False)"
   ]
  },
  {
   "cell_type": "markdown",
   "metadata": {
    "id": "LbQxBHDpLWxn"
   },
   "source": [
    "With the PN trajectory, we need to be careful at smaller $p$, larger $a$, and larger $e$. This trajectory can exihibt pathological behavior near these extremes. Therefore, we provide the option to truncate the trajectory at the Schwarzschild ($a=0$) separatrix, $6 + 2e$. To do this, you provide the keyword `enforce_schwarz_sep=True` to the initialization of the class."
   ]
  },
  {
   "cell_type": "code",
   "execution_count": null,
   "metadata": {
    "id": "ltIYVGuWLWxn"
   },
   "outputs": [],
   "source": [
    "# initialize trajectory class\n",
    "traj = EMRIInspiral(func=\"pn5\", enforce_schwarz_sep=True)"
   ]
  },
  {
   "cell_type": "code",
   "execution_count": null,
   "metadata": {
    "colab": {
     "base_uri": "https://localhost:8080/"
    },
    "executionInfo": {
     "elapsed": 345,
     "status": "ok",
     "timestamp": 1707711385645,
     "user": {
      "displayName": "Ollie Burke",
      "userId": "11051247479595094499"
     },
     "user_tz": -780
    },
    "id": "lcfIn4AZLWxn",
    "outputId": "0ee5faeb-f18c-4261-c45a-64e628fa7028"
   },
   "outputs": [],
   "source": [
    "# set initial parameters\n",
    "M = 1e5\n",
    "mu = 1e1\n",
    "a = 0.5\n",
    "p0 = 14.0\n",
    "e0 = 0.7\n",
    "iota0 = 0.1\n",
    "Y0 = np.cos(iota0)\n",
    "T = 2.0\n",
    "Phi_phi0 = 1.0\n",
    "Phi_theta0 = 2.0\n",
    "Phi_r0 = 3.0\n",
    "\n",
    "\n",
    "# run trajectory\n",
    "t, p, e, Y, Phi_phi, Phi_r, Phi_theta = traj(M, mu, a, p0, e0, Y0,\n",
    "                                             Phi_phi0=Phi_phi0, Phi_theta0=Phi_theta0, Phi_r0=Phi_r0, T=T)\n",
    "print(len(p), p.min())"
   ]
  },
  {
   "cell_type": "code",
   "execution_count": null,
   "metadata": {
    "colab": {
     "base_uri": "https://localhost:8080/",
     "height": 702
    },
    "executionInfo": {
     "elapsed": 2428,
     "status": "ok",
     "timestamp": 1707711390185,
     "user": {
      "displayName": "Ollie Burke",
      "userId": "11051247479595094499"
     },
     "user_tz": -780
    },
    "id": "mVtWvcGqLWxn",
    "outputId": "4b85d72c-a732-4609-888f-26655756a6b7"
   },
   "outputs": [],
   "source": [
    "fig, axes = plt.subplots(2, 4)\n",
    "plt.subplots_adjust(wspace=0.5)\n",
    "fig.set_size_inches(14, 8)\n",
    "axes = axes.ravel()\n",
    "\n",
    "ylabels = [r'$e$', r'$p$', r'$e$', r'$Y$', r'$\\Phi_\\phi$', r'$\\Phi_r$', r'$\\Phi_\\theta$']\n",
    "xlabels = [r'$p$', r'$t$', r'$t$', r'$t$', r'$t$', r'$t$', r'$t$', r'$t$', r'$t$']\n",
    "ys = [e, p, e, Y, Phi_phi, Phi_r, Phi_theta]\n",
    "xs = [p, t, t, t, t, t, t]\n",
    "\n",
    "for i, (ax, x, y, xlab, ylab) in enumerate(zip(axes, xs, ys, xlabels, ylabels)):\n",
    "    ax.plot(x, y)\n",
    "    ax.set_xlabel(xlab, fontsize=16)\n",
    "    ax.set_ylabel(ylab, fontsize=16)\n",
    "\n",
    "axes[-1].set_visible(False)"
   ]
  },
  {
   "cell_type": "markdown",
   "metadata": {
    "id": "j1Ho6PDfLWxn"
   },
   "source": [
    "### Generating the new AAK with the generic waveform generator"
   ]
  },
  {
   "cell_type": "code",
   "execution_count": null,
   "metadata": {
    "colab": {
     "base_uri": "https://localhost:8080/",
     "height": 462
    },
    "executionInfo": {
     "elapsed": 1349,
     "status": "ok",
     "timestamp": 1707711437022,
     "user": {
      "displayName": "Ollie Burke",
      "userId": "11051247479595094499"
     },
     "user_tz": -780
    },
    "id": "5cTNF_bBLWxn",
    "outputId": "2e2310eb-b497-4d3f-b251-c62e35cc11ee"
   },
   "outputs": [],
   "source": [
    "gen_wave = GenerateEMRIWaveform(\"Pn5AAKWaveform\", use_gpu = True)\n",
    "\n",
    "# parameters\n",
    "T = 0.01  # years\n",
    "dt = 15.0  # seconds\n",
    "M = 1e6\n",
    "a = 0.1\n",
    "mu = 1e1\n",
    "p0 = 12.0\n",
    "e0 = 0.2\n",
    "x0 = 0.6  # notice this is x_I, not Y. The AAK waveform can convert to Y.\n",
    "qK = 0.2  # polar spin angle\n",
    "phiK = 0.2  # azimuthal viewing angle\n",
    "qS = 0.3  # polar sky angle\n",
    "phiS = 0.3  # azimuthal viewing angle\n",
    "dist = 1.0  # distance\n",
    "Phi_phi0 = 1.0\n",
    "Phi_theta0 = 2.0\n",
    "Phi_r0 = 3.0\n",
    "\n",
    "h = gen_wave(\n",
    "    M,\n",
    "    mu,\n",
    "    a,\n",
    "    p0,\n",
    "    e0,\n",
    "    x0,\n",
    "    dist,\n",
    "    qS,\n",
    "    phiS,\n",
    "    qK,\n",
    "    phiK,\n",
    "    Phi_phi0,\n",
    "    Phi_theta0,\n",
    "    Phi_r0,\n",
    "    T=T,\n",
    "    dt=dt\n",
    ")\n",
    "\n",
    "plt.plot(xp.asnumpy(h.real[:2000]))"
   ]
  },
  {
   "cell_type": "markdown",
   "metadata": {
    "id": "Xw0KvLp_LWxn"
   },
   "source": [
    "## Mode Selection for Schwarszchild Waveforms"
   ]
  },
  {
   "cell_type": "markdown",
   "metadata": {
    "id": "OETBJheULWxn"
   },
   "source": [
    "The mode selection module is paramount to the computational efficiency of this model. Below we show how we perform this selection operation by moving from a set of amplitudes to only those that contribute."
   ]
  },
  {
   "cell_type": "markdown",
   "metadata": {
    "id": "baLgeM1PLWxn"
   },
   "source": [
    "### Mode selection by power contribution"
   ]
  },
  {
   "cell_type": "code",
   "execution_count": null,
   "metadata": {
    "colab": {
     "base_uri": "https://localhost:8080/",
     "height": 242
    },
    "executionInfo": {
     "elapsed": 543,
     "status": "error",
     "timestamp": 1707711448174,
     "user": {
      "displayName": "Ollie Burke",
      "userId": "11051247479595094499"
     },
     "user_tz": -780
    },
    "id": "LZLdm4HwLWxo",
    "outputId": "b71013f6-9d78-44a9-da20-a127ba539902"
   },
   "outputs": [],
   "source": [
    "# first, lets get amplitudes for a trajectory\n",
    "traj = EMRIInspiral(func=\"SchwarzEccFlux\")\n",
    "\n",
    "# parameters\n",
    "M = 1e5\n",
    "mu = 1e1\n",
    "p0 = 10.0\n",
    "e0 = 0.7\n",
    "theta = np.pi/3.\n",
    "phi = np.pi/2.\n",
    "\n",
    "t, p, e, x, Phi_phi, Phi_theta, Phi_r = traj(M, mu, 0.0, p0, e0, 1.0)\n",
    "\n",
    "# get amplitudes along trajectory\n",
    "amp = RomanAmplitude()\n",
    "\n",
    "teuk_modes = amp(p, e)\n",
    "\n",
    "# get ylms\n",
    "ylms = ylm_gen(amp.unique_l, amp.unique_m, theta, phi).copy()[amp.inverse_lm]\n",
    "\n",
    "# select modes\n",
    "\n",
    "mode_selector = ModeSelector(amp.m0mask, use_gpu=False)\n",
    "\n",
    "eps = 1e-5  # tolerance on mode contribution to total power\n",
    "\n",
    "modeinds = [amp.l_arr, amp.m_arr, amp.n_arr]\n",
    "(teuk_modes_in, ylms_in, ls, ms, ns) = mode_selector(teuk_modes, ylms, modeinds, eps=eps)\n",
    "\n",
    "print(\"We reduced the mode content from {} modes to {} modes.\".format(teuk_modes.shape[1], teuk_modes_in.shape[1]))"
   ]
  },
  {
   "cell_type": "markdown",
   "metadata": {
    "id": "zzEPAzfALWxo"
   },
   "source": [
    "### Specific mode selection"
   ]
  },
  {
   "cell_type": "markdown",
   "metadata": {
    "id": "ZYMR-TktLWxo"
   },
   "source": [
    "The user can also select a specific set of modes to use in the waveform."
   ]
  },
  {
   "cell_type": "code",
   "execution_count": null,
   "metadata": {
    "id": "2KZSaC0YLWxo",
    "outputId": "aa24f9ec-1487-442c-a1b3-63a561301d61"
   },
   "outputs": [],
   "source": [
    "# l = 2, m = 2 wave\n",
    "specific_modes = [(2, 2, n) for n in range(-30, 31)]\n",
    "dt = 10.0\n",
    "dist = 1.0\n",
    "wave_22 = few_gen(M, mu, p0, e0, theta, phi, dist=1.0, dt=dt, T=0.001, mode_selection=specific_modes)\n",
    "wave_base = few_gen(M, mu, p0, e0, theta, phi, dist=1.0, dt=dt, T=0.001)\n",
    "\n",
    "plt.plot(wave_22.real)\n",
    "\n",
    "print('mismatch with full wave:', get_mismatch(wave_22, wave_base))"
   ]
  },
  {
   "cell_type": "markdown",
   "metadata": {
    "id": "ihIavsKFLWxo"
   },
   "source": [
    "### Producing waveforms with the generic interface"
   ]
  },
  {
   "cell_type": "markdown",
   "metadata": {
    "id": "tJ19VexTLWxo"
   },
   "source": [
    "Waveforms can also be generated through a generic interface ([GenerateEMRIWaveform](https://mikekatz04.github.io/FastEMRIWaveforms/html/index.html#few.waveform.GenerateEMRIWaveform)) where the specific waveform model is chosen with an argument. This can also be used to produce waveforms in the detector frame used for data analysis. This interface includes all EMRI parameters, including spin and inclination, as well as sky and orientation parameters. When a specific waveform model does not require certain parameters, the parameters will not affect the waveform generation. A detector-frame waveform in this case means $h_+,h_x$ in the SSB-frame."
   ]
  },
  {
   "cell_type": "code",
   "execution_count": null,
   "metadata": {
    "id": "3CE881GLLWxo"
   },
   "outputs": [],
   "source": [
    "gen_wave = GenerateEMRIWaveform(\"FastSchwarzschildEccentricFlux\", use_gpu = True)\n",
    "\n",
    "T = 1/12/30/24  # years\n",
    "dt = 15.0  # seconds\n",
    "\n",
    "# parameters\n",
    "# intrinsic\n",
    "M = 1e6\n",
    "a = 0.0  # will be ignored in Schwarzschild waveform\n",
    "mu = 1e1\n",
    "p0 = 12.0 # in range [6+2*e0, 16]\n",
    "e0 = 0.2 #\n",
    "x0 = 1.0  # will be ignored in Schwarzschild waveform\n",
    "\n",
    "# extrinsic\n",
    "qK = 0.2  # polar spin angle\n",
    "phiK = 0.2  # azimuthal viewing angle\n",
    "qS = 0.3  # polar sky angle\n",
    "phiS = 0.4  # azimuthal viewing angle\n",
    "dist = 1.0  # distance\n",
    "\n",
    "# initial phases\n",
    "Phi_phi0 = 1.0\n",
    "Phi_theta0 = 2.0\n",
    "Phi_r0 = 3.0\n",
    "\n",
    "h = gen_wave(\n",
    "    M,\n",
    "    mu,\n",
    "    a,\n",
    "    p0,\n",
    "    e0,\n",
    "    x0,\n",
    "    dist,\n",
    "    qS,\n",
    "    phiS,\n",
    "    qK,\n",
    "    phiK,\n",
    "    Phi_phi0,\n",
    "    Phi_theta0,\n",
    "    Phi_r0,\n",
    "    T=T,\n",
    "    dt=dt,\n",
    ")"
   ]
  },
  {
   "cell_type": "code",
   "execution_count": null,
   "metadata": {
    "colab": {
     "base_uri": "https://localhost:8080/",
     "height": 472
    },
    "executionInfo": {
     "elapsed": 1474,
     "status": "ok",
     "timestamp": 1707711516948,
     "user": {
      "displayName": "Ollie Burke",
      "userId": "11051247479595094499"
     },
     "user_tz": -780
    },
    "id": "RM_aHry1LWxo",
    "outputId": "62a3d16a-da5c-440a-d2fe-ed8f753ce163"
   },
   "outputs": [],
   "source": [
    "t = np.arange(len(h)) * dt\n",
    "\n",
    "plt.figure()\n",
    "plt.title(f'Time duration {T:.2e} years')\n",
    "plt.plot(t, xp.asnumpy(h.real), label=r'$h_+$')\n",
    "plt.plot(t, xp.asnumpy(h.imag), label=r'$-h_\\times$')\n",
    "plt.ylabel('h')\n",
    "plt.xlabel('t [seconds]')\n",
    "plt.legend()\n",
    "plt.show()"
   ]
  },
  {
   "cell_type": "code",
   "execution_count": null,
   "metadata": {
    "colab": {
     "base_uri": "https://localhost:8080/",
     "height": 472
    },
    "executionInfo": {
     "elapsed": 19836,
     "status": "ok",
     "timestamp": 1707711556002,
     "user": {
      "displayName": "Ollie Burke",
      "userId": "11051247479595094499"
     },
     "user_tz": -780
    },
    "id": "rH1Tb7GmLWxo",
    "outputId": "843db75c-bc18-4296-d8e4-6e99ade8d6da"
   },
   "outputs": [],
   "source": [
    "T = 4.0\n",
    "\n",
    "h = gen_wave(\n",
    "    M,\n",
    "    mu,\n",
    "    a,\n",
    "    p0,\n",
    "    e0,\n",
    "    x0,\n",
    "    dist,\n",
    "    qS,\n",
    "    phiS,\n",
    "    qK,\n",
    "    phiK,\n",
    "    Phi_phi0,\n",
    "    Phi_theta0,\n",
    "    Phi_r0,\n",
    "    T=T,\n",
    "    dt=dt,)\n",
    "\n",
    "t = np.arange(len(h)) * dt\n",
    "\n",
    "plt.figure()\n",
    "plt.title(f'Time duration {T:.2e} years')\n",
    "plt.plot(t, xp.asnumpy(h.real), label=r'$h_+$')\n",
    "plt.plot(t, xp.asnumpy(h.imag), label=r'$-h_\\times$')\n",
    "plt.ylabel('h')\n",
    "plt.xlabel('t [seconds]')\n",
    "plt.legend()\n",
    "plt.show()"
   ]
  },
  {
   "cell_type": "markdown",
   "metadata": {
    "id": "aElFsTNtLWxp"
   },
   "source": [
    "## Scaling of the waveform with the central black hole mass\n"
   ]
  },
  {
   "cell_type": "code",
   "execution_count": null,
   "metadata": {
    "colab": {
     "base_uri": "https://localhost:8080/",
     "height": 562
    },
    "executionInfo": {
     "elapsed": 12668,
     "status": "ok",
     "timestamp": 1707711600951,
     "user": {
      "displayName": "Ollie Burke",
      "userId": "11051247479595094499"
     },
     "user_tz": -780
    },
    "id": "w0sDx08DLWxp",
    "outputId": "9dd1e64c-0279-40dd-9be2-eb5a951127f7"
   },
   "outputs": [],
   "source": [
    "T = 1.0\n",
    "dt=10\n",
    "max_FFT = []\n",
    "\n",
    "plt.figure()\n",
    "for M in 10**np.linspace(5.0,6.5,num=5):\n",
    "    mu = 1e-5*M\n",
    "    Tnew = T*M/1e6\n",
    "    h = gen_wave(\n",
    "        M,\n",
    "        mu,\n",
    "        a,\n",
    "        p0,\n",
    "        e0,\n",
    "        x0,\n",
    "        dist,\n",
    "        qS,\n",
    "        phiS,\n",
    "        qK,\n",
    "        phiK,\n",
    "        Phi_phi0,\n",
    "        Phi_theta0,\n",
    "        Phi_r0,\n",
    "        T=Tnew,\n",
    "        dt=dt,)\n",
    "\n",
    "    t = np.arange(len(h)) * dt\n",
    "\n",
    "\n",
    "    FFT= xp.fft.rfft(h.real)*dt / Tnew /mu\n",
    "    f= np.linspace(0.0, 1/(2*dt), num=int(len(t)/2)+1 )\n",
    "    plt.loglog(f *M*MTSUN_SI, xp.asnumpy(xp.abs(FFT)), label=fr'$h_+$, M={M:.2e}, Tinsp={Tnew:.1e}')\n",
    "    max_FFT.append(np.max(np.abs(FFT)))\n",
    "    print(M,max_FFT)\n",
    "#     plt.plot(t, h.imag, label=r'$-h_\\times$')\n",
    "\n",
    "plt.title(f'Time duration {T:.2e} years')\n",
    "plt.ylabel(r'$\\frac{\\tilde{h}}{\\mu \\, Tinsp}$')\n",
    "plt.xlabel(r'$f \\, M$')\n",
    "plt.legend()\n",
    "plt.show()"
   ]
  },
  {
   "cell_type": "markdown",
   "metadata": {
    "id": "EpCqYkTzLWxp"
   },
   "source": [
    "## Citing waveforms and modules"
   ]
  },
  {
   "cell_type": "markdown",
   "metadata": {
    "id": "_pNeGGdPLWxp"
   },
   "source": [
    "If you use any work from this package please cite our papers [arxiv.org/2104.04582](https://arxiv.org/abs/2104.04582) and [arxiv.org/2008.06071](https://arxiv.org/abs/2008.06071). Additionally please cite any additional work for each module used by calling the `citation` attribute on the module class:"
   ]
  },
  {
   "cell_type": "markdown",
   "metadata": {
    "id": "7YYtwvmrLWxp"
   },
   "source": [
    "### Fast Schwarzschild Eccentric Waveforms"
   ]
  },
  {
   "cell_type": "code",
   "execution_count": null,
   "metadata": {
    "id": "hLY2K1ZMLWxp",
    "outputId": "5d44a507-f0d7-4837-9b7e-a651176f1798",
    "scrolled": true
   },
   "outputs": [],
   "source": [
    "wave = FastSchwarzschildEccentricFlux()\n",
    "print(wave.citation)"
   ]
  },
  {
   "cell_type": "markdown",
   "metadata": {
    "id": "mFT_a7PvLWxp"
   },
   "source": [
    "### New and Improved AAK with 5PN Trajectory"
   ]
  },
  {
   "cell_type": "code",
   "execution_count": null,
   "metadata": {
    "id": "wOiVVI6ZLWxp",
    "outputId": "08ec908f-4345-43b6-fa43-1182e888271b",
    "scrolled": true
   },
   "outputs": [],
   "source": [
    "wave_aak = Pn5AAKWaveform()\n",
    "print(wave_aak.citation)"
   ]
  },
  {
   "cell_type": "markdown",
   "metadata": {
    "id": "VacgSMNOLWxp"
   },
   "source": [
    "# Solutions"
   ]
  },
  {
   "cell_type": "markdown",
   "metadata": {
    "id": "u6JU0-LOSPlR"
   },
   "source": [
    "## Exercise 0\n",
    "\n",
    "1. For the default parameters $(M,\\mu,a,p_{0},e_{0},(x_{I})_{0}) = (10^{6}, 10, 0, 10, 0.3, 1)$ with $T = 2$ years, verify that the final point in semi-latus rectum corresponds to the separatrix defined by $p = 6 + 2e$. Change the time of evolution $T$ and make a note of what you find.\n",
    "2. Modify the mass-ratio of the system above by increasing/decreasing $M$ whilst keeping $\\mu$ (and all other parameters) fixed. What do you observe about the orbital evolution in semi-latus rectum $p(t)$? You may need to increase the time of evolution $T$. You will find that $\\dot{p} = dp/dt$ decreases as $M$ is increased."
   ]
  },
  {
   "cell_type": "code",
   "execution_count": null,
   "metadata": {
    "id": "Jb0tWDNpSPlR",
    "outputId": "11506ebf-1b2e-45b0-af44-4feeeb85990e"
   },
   "outputs": [],
   "source": [
    "# EXERCISE 0!\n",
    "\n",
    "#set initial parameters for Schwarzschild orbit\n",
    "M = 1e6   # Primary mass  (solar masses)\n",
    "mu = 1e1  # Secondary mass  (solar masses)\n",
    "p0 = 10.0 # range [separatrix, 45]\n",
    "e0 = 0.3  # range [0.0, 0.7]\n",
    "\n",
    "# run trajectory\n",
    "# must include for generic inputs, will fix a = 0 and x = 1.0\n",
    "a = 0.0\n",
    "x = 1.0\n",
    "\n",
    "# additional information\n",
    "kwargs = dict(dt=10.0, # initial time step,\n",
    "              T=2.0, # Time duration in years\n",
    "              err=1e-10 # integrator error -- used as a tolerance to solve coupled ODEs above\n",
    "             )\n",
    "\n",
    "# Compute trajectory of smaller body: p(t), e(t), xI(t), Phi_phi(t), Phi_theta(t), Phi_r(t)\n",
    "t, p, e, xI, Phi_phi, Phi_theta, Phi_r = traj(M, mu, a, p0, e0, x,\n",
    "                                              Phi_phi0=0.0,\n",
    "                                              Phi_theta0=0.0,\n",
    "                                              Phi_r0=0.0,\n",
    "                                              **kwargs)\n",
    "\n",
    "p_sep = 6 + 2*e[-1] # SOLUTION PART\n",
    "\n",
    "print(\"Separatrix is at \",p_sep)\n",
    "print(\"Final point in semi-latus rectum is\", p[-1])\n",
    "\n",
    "# Compute trajectory of smaller body: p(t), e(t), xI(t), Phi_phi(t), Phi_theta(t), Phi_r(t)\n",
    "\n",
    "M_vec = 10**np.arange(4,7,1)\n",
    "N_plots = len(M_vec)\n",
    "\n",
    "fig,ax = plt.subplots(1,N_plots, figsize = (12,4))\n",
    "i=0\n",
    "for M in M_vec:\n",
    "    t, p, e, xI, Phi_phi, Phi_theta, Phi_r = traj(M, mu, a, p0, e0, x,\n",
    "                                              Phi_phi0=0.0,\n",
    "                                              Phi_theta0=0.0,\n",
    "                                              Phi_r0=0.0,\n",
    "                                              **kwargs)\n",
    "\n",
    "    ax[i].plot(t/60/60/24,p,label = \"M = {}\".format(M))\n",
    "    ax[i].set_xlabel(r'time [days]', fontsize = 18)\n",
    "    ax[i].set_ylabel(r'semi-latus rectum $p$',fontsize = 14)\n",
    "    ax[i].set_title(r'Primary mass = {} $M_\\odot$'.format(M),fontsize = 14)\n",
    "    ax[i].legend()\n",
    "    ax[i].grid()\n",
    "\n",
    "\n",
    "    i+=1\n",
    "plt.tight_layout()\n"
   ]
  },
  {
   "cell_type": "markdown",
   "metadata": {
    "id": "D7JbvaDuLWxp"
   },
   "source": [
    "## Exercise 1\n",
    "\n",
    "Let us now understand how the inspiral duration changes for different initial eccentricity or different initial semi-latus rectum. Remember the range of validity of the parameters and produce two plots:\n",
    "1. Time duration vs initial eccentricity (fixing all the other parameters)\n",
    "2. Time duration vs initial semi-latus rectum (fixing all the other parameters)\n",
    "\n",
    "If you have time, produce also this plot:\n",
    "\n",
    "3. Time duration vs M/epsilon (M=Mass MBHS and epsilon=Mass ratio). Prove that, for different total masses and mass ratios, the behavior of Time duration vs M/epsilon is always the same (Hint: use two for loops, one for $M$ and the other for $\\epsilon$).\n",
    "\n",
    "You should find that:\n",
    "\n",
    "1. The relation between time-duration and eccentricity is weak\n",
    "2. The relation between time-duration and semi-latus rectum is near-linear\n",
    "3. The relation between time-duration and $M/\\epsilon$ is perfectly linear."
   ]
  },
  {
   "cell_type": "code",
   "execution_count": null,
   "metadata": {
    "id": "BwcpYWMPLWxp",
    "outputId": "ca55fb1c-f030-450a-cc54-e762c4ad01ab"
   },
   "outputs": [],
   "source": [
    "## # set initial parameters\n",
    "M = 1e6\n",
    "mu = 1e1\n",
    "p0 = 10.0 # range [separatrix, 45]\n",
    "e0 = 0.3 # range [0.0, 0.7]\n",
    "\n",
    "# run trajectory\n",
    "# must include for generic inputs, will fix a = 0 and x = 1.0\n",
    "a = 0.0\n",
    "x = 1.0\n",
    "\n",
    "\n",
    "# Fix time duration to a very large number (100 years) so that we obtain the time duration from trajectory\n",
    "kwargs = dict(dt=10.0, # initial time setp,\n",
    "              T=1000.0,\n",
    "              err=1e-10 # integrator error\n",
    "             )\n",
    "\n",
    "ecc = np.linspace(0.01, 0.7, num=10)\n",
    "\n",
    "tfinal = []\n",
    "for e0 in ecc:\n",
    "\n",
    "    # get secondary mass for fixed mass ratio\n",
    "    t, p, e, xI, Phi_phi, Phi_theta, Phi_r = traj(M, mu, a, p0, e0, x,\n",
    "                                                  Phi_phi0=0.0,\n",
    "                                                  Phi_theta0=0.0,\n",
    "                                                  Phi_r0=0.0,\n",
    "                                                  **kwargs)\n",
    "\n",
    "    tfinal.append(t[-1]/YRSID_SI)\n",
    "\n",
    "\n",
    "plt.figure()\n",
    "plt.plot(ecc, tfinal)\n",
    "plt.ylabel('Time duration [years]', fontsize = 16)\n",
    "plt.xlabel(r'$e_{0}$', fontsize = 16)\n",
    "plt.grid()\n",
    "plt.show()\n",
    "############################\n",
    "tfinal = []\n",
    "e0 = 0.0 # reset eccentricity\n",
    "pp = np.linspace(7.0, 30.0, num=10)\n",
    "for p0 in pp:\n",
    "\n",
    "    # get secondary mass for fixed mass ratio\n",
    "    t, p, e, xI, Phi_phi, Phi_theta, Phi_r = traj(M, mu, a, p0, e0, x,\n",
    "                                                  Phi_phi0=0.0,\n",
    "                                                  Phi_theta0=0.0,\n",
    "                                                  Phi_r0=0.0,\n",
    "                                                  **kwargs)\n",
    "\n",
    "    tfinal.append(t[-1]/YRSID_SI)\n",
    "\n",
    "\n",
    "plt.figure()\n",
    "plt.loglog(pp, tfinal)\n",
    "plt.ylabel('Time duration [years]', fontsize = 16)\n",
    "plt.xlabel(r'$p_{0}$', fontsize = 16)\n",
    "plt.grid()\n",
    "plt.show()\n",
    "\n",
    "############################\n",
    "tfinal = []\n",
    "e0 = 0.2 # reset\n",
    "p0=10.0\n",
    "mass_ratio_vector = 10**np.linspace(-4.0, -6.0, num=10)\n",
    "Mvec = 10**np.linspace(4.0, 7.0, num=10)\n",
    "\n",
    "plt.figure()\n",
    "for M in Mvec:\n",
    "    tfinal = []\n",
    "    for epsilon in mass_ratio_vector:\n",
    "\n",
    "        # get secondary mass for fixed mass ratio\n",
    "        mu = M * epsilon\n",
    "        t, p, e, xI, Phi_phi, Phi_theta, Phi_r = traj(M, mu, a, p0, e0, x,\n",
    "                                                      Phi_phi0=0.0,\n",
    "                                                      Phi_theta0=0.0,\n",
    "                                                      Phi_r0=0.0,\n",
    "                                                      **kwargs)\n",
    "\n",
    "        # inspiral duration (divide by YRSID_SI to get it in years)\n",
    "        tfinal.append(t[-1]/YRSID_SI)\n",
    "\n",
    "    plt.plot(M/mass_ratio_vector, tfinal)\n",
    "plt.ylabel('Time duration [years]', fontsize = 16)\n",
    "plt.xlabel(r'$M/\\epsilon$', fontsize = 16)\n",
    "plt.grid()\n",
    "plt.show()\n",
    "\n",
    "\n"
   ]
  },
  {
   "cell_type": "markdown",
   "metadata": {
    "id": "N8lTrhJWLWxp"
   },
   "source": [
    "## Exercise 2\n",
    "\n",
    "Plot the FINAL number of cycles (`Ncycle.append(Phi_phi[-1]/(2*np.pi))`) for different mass ratios."
   ]
  },
  {
   "cell_type": "code",
   "execution_count": null,
   "metadata": {
    "id": "K1ay-SOYLWxq",
    "outputId": "5eb937c2-83e2-4303-b454-4fbdda9f26c4"
   },
   "outputs": [],
   "source": [
    "# set initial parameters\n",
    "M = 1e6\n",
    "mu = 1e1\n",
    "\n",
    "# run trajectory\n",
    "# must include for generic inputs, will fix a = 0 and x = 1.0\n",
    "a = 0.0\n",
    "x = 1.0\n",
    "p0 = 10.0 # range [separatrix, 45]\n",
    "e0 = 0.3 # range [0.0, 0.7]\n",
    "\n",
    "Ncycle = []\n",
    "for epsilon in mass_ratio_vector:\n",
    "\n",
    "    # get secondary mass for fixed mass ratio\n",
    "    mu = M * epsilon\n",
    "    t, p, e, xI, Phi_phi, Phi_theta, Phi_r = traj(M, mu, a, p0, e0, x,\n",
    "                                                  Phi_phi0=0.0,\n",
    "                                                  Phi_theta0=0.0,\n",
    "                                                  Phi_r0=0.0,\n",
    "                                                  **kwargs)\n",
    "\n",
    "    Ncycle.append(Phi_phi[-1]/(2*np.pi))\n",
    "\n",
    "\n",
    "plt.figure()\n",
    "plt.loglog(mass_ratio_vector, Ncycle)\n",
    "plt.ylabel('Number of cycles')\n",
    "plt.xlabel('Mass ratio')\n",
    "plt.grid()\n",
    "plt.show()"
   ]
  },
  {
   "cell_type": "markdown",
   "metadata": {
    "id": "MEVmgT47LWxq"
   },
   "source": [
    "## Exercise 3"
   ]
  },
  {
   "cell_type": "code",
   "execution_count": null,
   "metadata": {
    "id": "rMz-HLtALWxq",
    "outputId": "4ca7160e-63c6-4f1d-f72d-f17323e76164"
   },
   "outputs": [],
   "source": [
    "# parameters\n",
    "M = 1e6\n",
    "mu = 1e1\n",
    "p0 = 10.63\n",
    "e0 = 0.3\n",
    "theta = np.pi/3  # polar viewing angle in source frame\n",
    "phi = np.pi/4  # azimuthal viewing angle in source frame\n",
    "dt = 10.0\n",
    "\n",
    "plt.figure()\n",
    "for dd in np.linspace(1.0,5.0,num=10):\n",
    "    wave = few_gen(M, mu, p0, e0, theta, phi, dist=dd, dt=dt, T = 2)\n",
    "    SNR = np.sqrt(inner_product(wave.real,wave.real,dt)+inner_product(wave.imag,wave.imag,dt))\n",
    "    plt.plot(1/dd, SNR,'k.')\n",
    "plt.xlabel(r'$1/d_{L}$',fontsize = 16)\n",
    "plt.ylabel(r'$\\rho$', fontsize = 16)\n",
    "plt.grid()\n",
    "plt.show()\n",
    "\n",
    "\n",
    "plt.figure()\n",
    "for mu in np.linspace(1.0,100.0,num=10):\n",
    "    wave = few_gen(M, mu, p0, e0, theta, phi, dist=1.0, dt=dt, T= 0.05)\n",
    "    SNR = np.sqrt(inner_product(wave.real,wave.real,dt)+inner_product(wave.imag,wave.imag,dt))\n",
    "    plt.plot(mu, SNR,'k.')\n",
    "plt.xlabel(r'$\\mu$', fontsize = 16)\n",
    "plt.ylabel(r'$\\rho$', fontsize = 16)\n",
    "plt.grid()\n",
    "plt.show()"
   ]
  },
  {
   "cell_type": "markdown",
   "metadata": {
    "id": "_6hA-OK3LWxq"
   },
   "source": [
    "## Exercise 4"
   ]
  },
  {
   "cell_type": "code",
   "execution_count": null,
   "metadata": {
    "id": "BO7nAzBpLWxq",
    "outputId": "8140be9f-61f5-45cd-dd20-6349209e036b"
   },
   "outputs": [],
   "source": [
    "# parameters\n",
    "M = 1e6\n",
    "mu = 1e2\n",
    "p0 = 12.0\n",
    "e0 = 0.4\n",
    "theta = np.pi/3  # polar viewing angle in source frame\n",
    "phi = np.pi/4  # azimuthal viewing angle in source frame\n",
    "dt = 10.0\n",
    "T = 0.01\n",
    "\n",
    "cmap = matplotlib.cm.get_cmap('inferno')\n",
    "fig, axs = plt.subplots(1, 1)\n",
    "axs.set_xlabel('$\\log_{10}\\delta e$')\n",
    "axs.set_ylabel('Overlap')\n",
    "vec = 10**np.linspace(-6, -2,num=10)\n",
    "logd = np.log10(vec)\n",
    "\n",
    "T=0.01\n",
    "base_sig = few_gen(M, mu, p0, e0, theta, phi, dist=1.0, dt=dt, T=T)\n",
    "# M\n",
    "O=[]\n",
    "for delta in vec:\n",
    "    wave = few_gen(M*(1+delta), mu, p0, e0, theta, phi, dist=1.0, dt=dt, T=T)\n",
    "    O.append(overlap(base_sig.real,wave.real,dt))\n",
    "\n",
    "axs.scatter(logd, O , label=f'M')\n",
    "\n",
    "# mu\n",
    "O=[]\n",
    "for delta in vec:\n",
    "    wave = few_gen(M, mu*(1+delta), p0, e0, theta, phi, dist=1.0, dt=dt, T=T)\n",
    "    O.append(overlap(base_sig.real,wave.real,dt))\n",
    "\n",
    "axs.scatter(logd, O , label=f'mu')\n",
    "\n",
    "# p0\n",
    "O=[]\n",
    "for delta in vec:\n",
    "    wave = few_gen(M, mu, p0*(1+delta), e0, theta, phi, dist=1.0, dt=dt, T=T)\n",
    "    O.append(overlap(base_sig.real,wave.real,dt))\n",
    "\n",
    "axs.scatter(logd, O , label=f'p0')\n",
    "\n",
    "\n",
    "plt.legend()\n",
    "plt.grid()\n",
    "plt.show()"
   ]
  },
  {
   "cell_type": "markdown",
   "metadata": {
    "id": "s-o4hi2nSPlT"
   },
   "source": [
    "## Exercise 5\n",
    "\n",
    "Using the Fisher matrix formalism, try to understand how well we can measure the primary mass $M$ for the EMRI given above.\n",
    "\n",
    "Using the Fisher matrix, prove that the fisher information on the distance can be written as\n",
    "\n",
    "$$\n",
    "\\Gamma_{d_{L}d_{L}} = \\frac{\\rho^{2}}{d_{L}^{2}}\n",
    "$$\n",
    "\n",
    "where $\\rho^{2} = (h|h)$ is the optimal matched-filtering SNR. Then verify that, indeed, we can measure $\\Delta d_{L} = d_{L}/\\rho$"
   ]
  },
  {
   "cell_type": "code",
   "execution_count": null,
   "metadata": {
    "id": "aMpAHXDnSPlT"
   },
   "outputs": [],
   "source": [
    "# Code\n",
    "\n",
    "dM = 1e-1  # Set step size for numerical derivative\n",
    "\n",
    "wave_p = few_gen(M + dM, mu, p0, e0, theta, phi, dist=1.0, dt=dt, T=2)\n",
    "wave_m = few_gen(M - dM, mu, p0, e0, theta, phi, dist=1.0, dt=dt, T=2)\n",
    "\n",
    "deriv_wave = (wave_p - wave_m)/(2*dM)\n",
    "\n",
    "deriv_wave_fft = xp.fft.rfft(deriv_wave)\n",
    "\n",
    "gamma_MM = inner_product(deriv_wave.real,deriv_wave.real,dt)  # Just a scalar\n",
    "\n",
    "precision_M = gamma_MM**(-1/2)\n",
    "\n",
    "print(\"Precision we can expect to measure the primary mass is\", precision_M)\n"
   ]
  },
  {
   "cell_type": "markdown",
   "metadata": {
    "id": "BNgeaYHnSPlT"
   },
   "source": [
    "# Analytical solution\n",
    "\n",
    "We need to calculate \n",
    "\n",
    "$$\\Gamma_{d_{L}d_{L}} = 4\\mathcal{R}\\int_{0}^{\\infty} \\frac{1}{S_{n}(f)}\\rvert \\partial_{d_{L}}\\tilde{h}\\rvert^{2} df.$$\n",
    "\n",
    "Notice that since $\\tilde{h}(f) \\sim 1/d_{L}$, we have that $\\partial_{d_{L}}\\tilde{h}(f) \\sim -\\frac{1}{d_{L}^2}$. We thus have that\n",
    "$$ \\partial_{d_{L}}\\tilde{h}(f) = -\\frac{1}{d_{L}}\\tilde{h}(f) \\Longrightarrow |\\partial_{d_{L}}\\tilde{h}(f)|^2 = \\left(\\frac{1}{d_{L}}\\right)^2 |\\tilde{h}(f)|^2 $$ This implies that\n",
    "$$ \\Gamma_{d_{L}d_{L}} = 4\\mathcal{R}\\int_{0}^{\\infty} \\frac{1}{S_{n}(f)}\\big\\rvert \\partial_{d_{L}}\\tilde{h}\\big\\rvert^{2} df = \\left(\\frac{1}{d_{L}}\\right)^2 \\cdot 4\\mathcal{R}\\int_{0}^{\\infty} \\frac{1}{S_{n}(f)}\\big\\rvert \\tilde{h}(f)\\big\\rvert^{2} df = \\left(\\frac{(h|h)}{d_{L}}\\right)^2 = \\frac{\\rho^2}{d_{L}^2}$$\n",
    "\n",
    "The result then follows that $\\Delta d_{L} = (\\Gamma^{-1}_{d_{L}d_{L}})^{1/2} = \\frac{d_{L}}{\\rho} $ as required."
   ]
  },
  {
   "cell_type": "markdown",
   "metadata": {
    "id": "UyvdApelLWxq"
   },
   "source": [
    "# Exercise 6\n",
    "\n",
    "In the previous plot the different harmonics of the waveform can be recognized as tracks in time-frequency space. As exercise, try to plot the frequency tracks as a function of time on top of the previous plot. Take the same input parameters and run a trajectory to obtain the `p` and `e` evolution. Then pass these arrays into the the function `get_fundamental_frequencies` and obtain the three fundamental frequencies. Then convert to the correct units and plot the frequency $f=(m \\Omega_\\varphi + n \\Omega_r)/(2\\pi)$ for some values of your choice for $m$ and $n$."
   ]
  },
  {
   "cell_type": "code",
   "execution_count": null,
   "metadata": {
    "id": "EkFvKx0WLWxq",
    "outputId": "cab26ee4-875b-477e-8e9d-484d1c729e80",
    "scrolled": true
   },
   "outputs": [],
   "source": [
    "M = 1e6\n",
    "mu = 1e2\n",
    "p0 = 12.0\n",
    "e0 = 0.0\n",
    "theta = np.pi/3  # polar viewing angle in source frame\n",
    "phi = np.pi/4  # azimuthal viewing angle in source frame\n",
    "dt = 10.0\n",
    "\n",
    "wave = few_gen(M, mu, p0, e0, theta, phi, dist=1.0, dt=dt, T=1.0)\n",
    "f, t, Zxx = signal.stft(wave.real, 1/dt, nperseg=5000)\n",
    "\n",
    "time, p, e, x, Phi_phi, Phi_theta, Phi_r = traj(M, mu, 0.0, p0, e0, 1.0, T=1.0, dt=dt)\n",
    "OmegaPhi, OmegaTheta, OmegaR = get_fundamental_frequencies(0.0, p, e, 1.0)\n",
    "fharmonic = 2*OmegaPhi / (M*MTSUN_SI) / (np.pi*2)\n",
    "\n",
    "plt.figure(figsize=(16,10))\n",
    "cb = plt.pcolormesh(t, f, np.log10(np.abs(Zxx)), shading='gouraud')\n",
    "plt.plot(time, fharmonic,'r')\n",
    "plt.colorbar(cb,)\n",
    "plt.title('STFT Magnitude')\n",
    "plt.ylabel('Frequency [Hz]')\n",
    "plt.xlabel('Time [sec]')\n",
    "plt.yscale('log')\n",
    "plt.ylim([1e-4, f[-1]])\n",
    "\n",
    "plt.show()"
   ]
  },
  {
   "cell_type": "markdown",
   "metadata": {
    "id": "kQjbdqdGSPlT"
   },
   "source": [
    "## Exercise 7\n",
    "\n",
    "Now using the overlap function defined by\n",
    "\n",
    "$$ \\mathcal{O}(a,b) = \\frac{(a|b)}{\\sqrt{(a|a)(b|b)}}, \\ \\ \\text{with inner product:} \\ \\ (a|b) = 4\\int_{0}^{\\infty}\\frac{\\tilde{a}(f)\\tilde{b}^{\\star}(f)}{S_{n}(f)}$$\n",
    "\n",
    "try and show that the two waveform models `fd_gen` and `td_gen` are near equivalent for the parameters given above."
   ]
  },
  {
   "cell_type": "code",
   "execution_count": null,
   "metadata": {
    "id": "FtHj6yJdSPlT"
   },
   "outputs": [],
   "source": [
    "\n",
    "ab = inner_product_FD(hp_fd[N_t//2 + 1:], hp_fft[1:], df, PSD_cp)\n",
    "aa = inner_product_FD(hp_fd[N_t//2 + 1:], hp_fd[N_t//2 + 1:], df, PSD_cp)\n",
    "bb = inner_product_FD(dt * hp_fft[1:], dt * hp_fft[1:], df, PSD_cp)\n",
    "\n",
    "overlap = ab/np.sqrt(aa*bb)\n",
    "\n",
    "print(\"Overlap between two models is = \", overlap)"
   ]
  }
 ],
 "metadata": {
  "colab": {
   "provenance": [
    {
     "file_id": "https://github.com/OllieBurke/EMRI_Workshop/blob/main/docs/Auckland_Tutorial_GPU.ipynb",
     "timestamp": 1707707349955
    },
    {
     "file_id": "https://github.com/OllieBurke/EMRI_Workshop/blob/main/docs/Auckland_Tutorial.ipynb",
     "timestamp": 1707554522701
    }
   ]
  },
  "kernelspec": {
   "display_name": "Python 3 (ipykernel)",
   "language": "python",
   "name": "python3"
  },
  "language_info": {
   "codemirror_mode": {
    "name": "ipython",
    "version": 3
   },
   "file_extension": ".py",
   "mimetype": "text/x-python",
   "name": "python",
   "nbconvert_exporter": "python",
   "pygments_lexer": "ipython3",
   "version": "3.7.12"
  }
 },
 "nbformat": 4,
 "nbformat_minor": 1
}
